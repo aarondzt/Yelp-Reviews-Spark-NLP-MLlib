{
 "cells": [
  {
   "cell_type": "markdown",
   "metadata": {},
   "source": [
    "### Import data"
   ]
  },
  {
   "cell_type": "code",
   "execution_count": 1,
   "metadata": {},
   "outputs": [
    {
     "name": "stdout",
     "output_type": "stream",
     "text": [
      "time: 0 ns (started: 2021-04-11 11:36:39 -04:00)\n"
     ]
    }
   ],
   "source": [
    "%load_ext autotime"
   ]
  },
  {
   "cell_type": "code",
   "execution_count": 45,
   "metadata": {},
   "outputs": [
    {
     "name": "stdout",
     "output_type": "stream",
     "text": [
      "time: 0 ns (started: 2021-04-11 12:14:40 -04:00)\n"
     ]
    }
   ],
   "source": [
    "import sparknlp\n",
    "spark = sparknlp.start() "
   ]
  },
  {
   "cell_type": "code",
   "execution_count": 46,
   "metadata": {},
   "outputs": [
    {
     "data": {
      "text/plain": [
       "8021122"
      ]
     },
     "execution_count": 46,
     "metadata": {},
     "output_type": "execute_result"
    },
    {
     "name": "stdout",
     "output_type": "stream",
     "text": [
      "time: 25 s (started: 2021-04-11 12:14:40 -04:00)\n"
     ]
    }
   ],
   "source": [
    "reviews = spark.read.json('yelp_academic_dataset_review.json')\n",
    "reviews = reviews.select(['business_id', 'text', 'stars'])\n",
    "reviews.count()"
   ]
  },
  {
   "cell_type": "code",
   "execution_count": 47,
   "metadata": {},
   "outputs": [
    {
     "name": "stdout",
     "output_type": "stream",
     "text": [
      "time: 0 ns (started: 2021-04-11 12:15:05 -04:00)\n"
     ]
    }
   ],
   "source": [
    "from pyspark.sql.functions import col\n",
    "from pyspark.sql.types import StringType\n",
    "reviews = reviews.withColumn('stars', col('stars').cast(StringType()))"
   ]
  },
  {
   "cell_type": "markdown",
   "metadata": {},
   "source": [
    "### Subset data for Databricks"
   ]
  },
  {
   "cell_type": "code",
   "execution_count": 37,
   "metadata": {},
   "outputs": [
    {
     "name": "stdout",
     "output_type": "stream",
     "text": [
      "time: 0 ns (started: 2021-04-11 12:06:07 -04:00)\n"
     ]
    }
   ],
   "source": [
    "# x = (1/10)\n",
    "# subset_df, large_df = reviews.randomSplit([x, 1 - x])"
   ]
  },
  {
   "cell_type": "code",
   "execution_count": 38,
   "metadata": {},
   "outputs": [
    {
     "name": "stdout",
     "output_type": "stream",
     "text": [
      "time: 0 ns (started: 2021-04-11 12:06:07 -04:00)\n"
     ]
    }
   ],
   "source": [
    "# subset_df.coalesce(1).write.format('json').save('reviews_1-10.json')"
   ]
  },
  {
   "cell_type": "markdown",
   "metadata": {},
   "source": [
    "### Back to Jupyter"
   ]
  },
  {
   "cell_type": "code",
   "execution_count": 50,
   "metadata": {},
   "outputs": [
    {
     "name": "stdout",
     "output_type": "stream",
     "text": [
      "time: 719 ms (started: 2021-04-11 12:17:11 -04:00)\n"
     ]
    }
   ],
   "source": [
    "businesses = spark.read.json('yelp_academic_dataset_business.json')\n",
    "businesses = businesses.select(['business_id', 'categories'])"
   ]
  },
  {
   "cell_type": "code",
   "execution_count": 51,
   "metadata": {},
   "outputs": [
    {
     "data": {
      "text/plain": [
       "5055992"
      ]
     },
     "execution_count": 51,
     "metadata": {},
     "output_type": "execute_result"
    },
    {
     "name": "stdout",
     "output_type": "stream",
     "text": [
      "time: 13 s (started: 2021-04-11 12:17:12 -04:00)\n"
     ]
    }
   ],
   "source": [
    "restaurants = businesses.filter(businesses.categories.contains('Restaurants'))\n",
    "restaurant_reviews = reviews.join(restaurants, \"business_id\", \"inner\")\n",
    "restaurant_reviews = restaurant_reviews.select(['text', 'stars'])\n",
    "restaurant_reviews.count()"
   ]
  },
  {
   "cell_type": "code",
   "execution_count": 52,
   "metadata": {},
   "outputs": [
    {
     "data": {
      "text/plain": [
       "1256088"
      ]
     },
     "execution_count": 52,
     "metadata": {},
     "output_type": "execute_result"
    },
    {
     "name": "stdout",
     "output_type": "stream",
     "text": [
      "time: 13 s (started: 2021-04-11 12:17:25 -04:00)\n"
     ]
    }
   ],
   "source": [
    "five_stars = restaurant_reviews.filter(restaurant_reviews.stars == 5.0)\n",
    "one_stars = restaurant_reviews.filter(restaurant_reviews.stars == 1.0)\n",
    "num_one_stars = one_stars.count()\n",
    "five_stars = five_stars.limit(num_one_stars)\n",
    "one_or_five_stars = five_stars.union(one_stars)\n",
    "num_one_stars * 2"
   ]
  },
  {
   "cell_type": "code",
   "execution_count": 60,
   "metadata": {
    "collapsed": true
   },
   "outputs": [
    {
     "data": {
      "text/plain": [
       "[Row(text='Threw away food I Chick-fil-A trash can. Straight garbage. Was accused of  \"stealing\" even thought I paid for it.', stars='1.0', categoryIndex=0.0),\n",
       " Row(text=\"Never in my life, of 62 years, have I ever tasted fried or grilled-chicken, this terrible. \\nWhat a waste, of a seemingly attractive establishment. \\nThere's nothing else I can possibly add. \\nEven their punch is watered down. \\nI must say, that the plantains were alright.\\nDoes the management or owner, ever taste the food they're selling?\", stars='1.0', categoryIndex=0.0),\n",
       " Row(text=\"Horrible customer service and service in general! Called ahead and even placed reservation via yelp as they requested. We still ended up waiting 50 minutes for a table. No one apologized or even attempted to accommodate us. I'm very disappointed in their service here his evening. Worse birthday dinner ever!\", stars='1.0', categoryIndex=0.0),\n",
       " Row(text=\"You know the food there is and have bad. The DJ killed it. I was there after the football game on 12/23/2018 we went in for dinner sat in the back part of the restaurant order food that we could barely hear the waitress the restaurant was probably half full nobody was dancing or in the mood for that music and as we try to carry on a conversation that's stupid DJ kept turning it up even louder I think this place would probably get a lot more business if they would get rid of that guy blasting on that music. Nobody was in the mood to dance we get a Hardly hear the server there was no reason to have the music that loud that guy is a complete idiot and ruined The experience for me and everybody around\", stars='1.0', categoryIndex=0.0),\n",
       " Row(text=\"Pepperoni Roll- From back east and had a craving for a good roll. They had good reviews so I tried um. What avgs to about $10 a roll they left much to be desired. I know the alkalinity has a lot to do with dough flavor and text so that's not there fault BUT the crust came partially burnt and completely flavorless, but that's not where it ended. The first bite left me with a very salty and greasy mouthful of flavorless pepperoni and cheese. Maybe there pizza is good I don't know, my first experience at Carmines. Even the side of Marinara they gave me was very watered down. Sorry guys hope your pizza is better?\", stars='1.0', categoryIndex=0.0),\n",
       " Row(text=\"If I could give 0 stars I would . I had a very bad experience ! BECAREFUL !!!!!!!!!!!!! I went for dinner with my wife and at the end when I pay my bill I asked the waitress to round it to $160 for tip and when I got home I realized I was charged $160 dollars on tip plus   the bill so My bank statement showed I was charge $335 I was in chocked . I called the restaurant and they said it would took up to 5 days to return the money ,after keep calling several times asking for my money , 2 weeks and half later   I called corporate they returned only $140 , so I called and corporate told me they kept $20 for tip And there is nothing they can do .I was so surprised after all the waiting, the waitress mistake they only returned $140 wow . I had a different perspective of this restaurant, I didn't  know they need $20 dollars so bad . Be carful what they put in your tip , you will lose money at the end... I will not come back, bad costumer service from the restaurant and corporate\", stars='1.0', categoryIndex=0.0),\n",
       " Row(text=\"This restaurant was dirty and in complete disarray. The cashier (Daniela) was very rude and must have felt she was to good to be serving customers as she leaned on the counter slumped over, muffled under her breath and wouldn't speak up so you could hear her. She got my order wrong and has customers upset and angry they had yet to get their food. It would take her 10 minutes just to take one order. People were literally leaving because the line was taking so long to just get their order in. The kitchen staff was trying to hold it together but seemed to be missing leadership/management for support.\", stars='1.0', categoryIndex=0.0),\n",
       " Row(text='After making reservations more than 3 weeks prior to the date and receiving confirmation for an updated reservation to add an additional guest the day prior, we arrive at the restaurant and find it closed, doors locked and lights off. I had to walk with my managers to find another restaurant last minute that had availability for 5 people to have our holiday lunch. Very disappointing to say the least.', stars='1.0', categoryIndex=0.0),\n",
       " Row(text=\"Went after work to order dinner. I asked the cashier Sarah for extra vinegar sauce she threw it in the bag And it spilled all over in the bag on my food. When I can She clean it up she gave much attitude. Once home I went In the bag to find that the guacamole was not in the bag I then Called the the store and the manger Caitlin was not friendly at all she asked an a very not In the most kind manner  what did I want Her to do about it! I told Her I was Very disappointed in her customer service asked her name she did not give it to me she proceeded to hang up on me I had to call back and ask what was the manager name and that's how I got Kaitlyn's name.\", stars='1.0', categoryIndex=0.0),\n",
       " Row(text=\"I really love Peruvian food and my ppl but this restaurant and it's owners are really bad . I'm never going back again . I ordered one Ceviche ( leche de tigre) to share as an apitizer and fried rice to my main course and they took more them 45 minutes and they brought all together .\", stars='1.0', categoryIndex=0.0)]"
      ]
     },
     "execution_count": 60,
     "metadata": {},
     "output_type": "execute_result"
    },
    {
     "name": "stdout",
     "output_type": "stream",
     "text": [
      "time: 46.5 s (started: 2021-04-11 12:30:20 -04:00)\n"
     ]
    }
   ],
   "source": [
    "from pyspark.ml.feature import StringIndexer\n",
    "indexer = StringIndexer(inputCol = 'stars', outputCol = 'categoryIndex')\n",
    "indexed = indexer.fit(one_or_five_stars).transform(one_or_five_stars)"
   ]
  },
  {
   "cell_type": "code",
   "execution_count": 63,
   "metadata": {},
   "outputs": [
    {
     "data": {
      "text/plain": [
       "1269"
      ]
     },
     "execution_count": 63,
     "metadata": {},
     "output_type": "execute_result"
    },
    {
     "name": "stdout",
     "output_type": "stream",
     "text": [
      "time: 33.5 s (started: 2021-04-11 12:31:55 -04:00)\n"
     ]
    }
   ],
   "source": [
    "x = 0.001\n",
    "subset_df, large_df = indexed.randomSplit([x, 1 - x])\n",
    "subset_df.count()"
   ]
  },
  {
   "cell_type": "code",
   "execution_count": 64,
   "metadata": {},
   "outputs": [
    {
     "data": {
      "text/plain": [
       "[Row(text='\"Dem potatoes doe.\" Imagine cajun spices grinded into a dust then is sprinkled on crispy bitesized potato cubes. \\nThe french toast is fluffy crispy sweet & eggy.\\n\\nDon\\'t leave without the banana nut muffin. Its moist sweet and super mouth watering!!!', stars='5.0', categoryIndex=1.0)]"
      ]
     },
     "execution_count": 64,
     "metadata": {},
     "output_type": "execute_result"
    },
    {
     "name": "stdout",
     "output_type": "stream",
     "text": [
      "time: 19.8 s (started: 2021-04-11 12:32:29 -04:00)\n"
     ]
    }
   ],
   "source": [
    "subset_df.take(1)"
   ]
  },
  {
   "cell_type": "code",
   "execution_count": 65,
   "metadata": {},
   "outputs": [
    {
     "name": "stdout",
     "output_type": "stream",
     "text": [
      "time: 15 ms (started: 2021-04-11 12:34:46 -04:00)\n"
     ]
    }
   ],
   "source": [
    "from nltk.corpus import stopwords\n",
    "nltk_stopwords = stopwords.words('english')\n",
    "# sql_stopwords = pd.read_csv('MySQL_stopwords.csv', header = None)\n",
    "# sql_stopwords = list(sql_stopwords[0].values)\n",
    "# eng_stopwords = nltk_stopwords + sql_stopwords\n",
    "# eng_stopwords = list(set(eng_stopwords))"
   ]
  },
  {
   "cell_type": "code",
   "execution_count": 66,
   "metadata": {},
   "outputs": [
    {
     "name": "stdout",
     "output_type": "stream",
     "text": [
      "lemma_antbnc download started this may take some time.\n",
      "Approximate size to download 907.6 KB\n",
      "[OK!]\n",
      "time: 2.89 s (started: 2021-04-11 12:34:47 -04:00)\n"
     ]
    }
   ],
   "source": [
    "# Build NLP preprocessing pipeline\n",
    "from sparknlp.base import DocumentAssembler\n",
    "from sparknlp.annotator import Tokenizer\n",
    "from sparknlp.annotator import Normalizer\n",
    "from sparknlp.annotator import LemmatizerModel\n",
    "from sparknlp.annotator import StopWordsCleaner\n",
    "from sparknlp.annotator import NGramGenerator\n",
    "from sparknlp.base import Finisher\n",
    "\n",
    "document_assembler = DocumentAssembler() \\\n",
    ".setInputCol('text') \\\n",
    ".setOutputCol('document')\n",
    "\n",
    "tokenizer = Tokenizer() \\\n",
    ".setInputCols(['document']) \\\n",
    ".setOutputCol('tokenized') \\\n",
    ".setContextChars(['(', ')']) \\\n",
    ".setSplitChars(['-'])\n",
    "\n",
    "normalizer = Normalizer() \\\n",
    ".setInputCols(['tokenized']) \\\n",
    ".setOutputCol('normalized') \\\n",
    ".setLowercase(True) \\\n",
    ".setCleanupPatterns(['[^A-Za-z]'])\n",
    "\n",
    "lemmatizer = LemmatizerModel \\\n",
    ".pretrained() \\\n",
    ".setInputCols(['normalized']) \\\n",
    ".setOutputCol('lemmatized')\n",
    "\n",
    "stopwords_cleaner = StopWordsCleaner() \\\n",
    ".setInputCols(['lemmatized']) \\\n",
    ".setOutputCol('unigrams') \\\n",
    ".setStopWords(nltk_stopwords)\n",
    "\n",
    "ngrammer = NGramGenerator() \\\n",
    "    .setInputCols(['unigrams']) \\\n",
    "    .setOutputCol('ngrams') \\\n",
    "    .setN(2) \\\n",
    "    .setEnableCumulative(True) \\\n",
    "    .setDelimiter('_')\n",
    "\n",
    "finisher = Finisher() \\\n",
    ".setInputCols(['ngrams'])"
   ]
  },
  {
   "cell_type": "code",
   "execution_count": 67,
   "metadata": {},
   "outputs": [
    {
     "name": "stdout",
     "output_type": "stream",
     "text": [
      "time: 0 ns (started: 2021-04-11 12:34:49 -04:00)\n"
     ]
    }
   ],
   "source": [
    "# Assemble pipeline\n",
    "from pyspark.ml import Pipeline\n",
    "nlp_pipeline = Pipeline() \\\n",
    ".setStages([document_assembler,\n",
    "            tokenizer,\n",
    "            normalizer,\n",
    "            lemmatizer,\n",
    "            stopwords_cleaner,\n",
    "            ngrammer,\n",
    "            finisher])"
   ]
  },
  {
   "cell_type": "code",
   "execution_count": 68,
   "metadata": {},
   "outputs": [
    {
     "name": "stdout",
     "output_type": "stream",
     "text": [
      "time: 281 ms (started: 2021-04-11 12:34:49 -04:00)\n"
     ]
    }
   ],
   "source": [
    "# Fit pipeline\n",
    "preprocessed = nlp_pipeline.fit(subset_df).transform(subset_df)"
   ]
  },
  {
   "cell_type": "code",
   "execution_count": 69,
   "metadata": {},
   "outputs": [
    {
     "data": {
      "text/plain": [
       "[Row(text='\"Dem potatoes doe.\" Imagine cajun spices grinded into a dust then is sprinkled on crispy bitesized potato cubes. \\nThe french toast is fluffy crispy sweet & eggy.\\n\\nDon\\'t leave without the banana nut muffin. Its moist sweet and super mouth watering!!!', stars='5.0', categoryIndex=1.0, finished_ngrams=['dem', 'potato', 'imagine', 'cajun', 'spice', 'grinded', 'dust', 'sprinkle', 'crispy', 'bitesized', 'potato', 'cube', 'french', 'toast', 'fluffy', 'crispy', 'sweet', 'eggy', 'dont', 'leave', 'without', 'banana', 'nut', 'muffin', 'moist', 'sweet', 'super', 'mouth', 'water', 'dem_potato', 'potato_imagine', 'imagine_cajun', 'cajun_spice', 'spice_grinded', 'grinded_dust', 'dust_sprinkle', 'sprinkle_crispy', 'crispy_bitesized', 'bitesized_potato', 'potato_cube', 'cube_french', 'french_toast', 'toast_fluffy', 'fluffy_crispy', 'crispy_sweet', 'sweet_eggy', 'eggy_dont', 'dont_leave', 'leave_without', 'without_banana', 'banana_nut', 'nut_muffin', 'muffin_moist', 'moist_sweet', 'sweet_super', 'super_mouth', 'mouth_water'])]"
      ]
     },
     "execution_count": 69,
     "metadata": {},
     "output_type": "execute_result"
    },
    {
     "name": "stdout",
     "output_type": "stream",
     "text": [
      "time: 18.5 s (started: 2021-04-11 12:34:50 -04:00)\n"
     ]
    }
   ],
   "source": [
    "preprocessed.take(1)"
   ]
  },
  {
   "cell_type": "code",
   "execution_count": 70,
   "metadata": {},
   "outputs": [
    {
     "name": "stdout",
     "output_type": "stream",
     "text": [
      "1022\n",
      "time: 33.3 s (started: 2021-04-11 12:35:08 -04:00)\n"
     ]
    }
   ],
   "source": [
    "# Train test split\n",
    "(trainingData, testData) = preprocessed.randomSplit([0.8, 0.2])\n",
    "trainingData_count = trainingData.count()\n",
    "print(trainingData_count)"
   ]
  },
  {
   "cell_type": "code",
   "execution_count": 71,
   "metadata": {},
   "outputs": [
    {
     "name": "stdout",
     "output_type": "stream",
     "text": [
      "time: 16 ms (started: 2021-04-11 12:35:42 -04:00)\n"
     ]
    }
   ],
   "source": [
    "# ML pipeline\n",
    "from pyspark.ml.feature import CountVectorizer\n",
    "from pyspark.ml.feature import IDF\n",
    "from pyspark.ml.classification import LogisticRegression\n",
    "\n",
    "tfizer = CountVectorizer(inputCol = \"finished_ngrams\", outputCol = \"tf_features\")\n",
    "idfizer = IDF(inputCol = \"tf_features\", outputCol = \"idf_features\")\n",
    "lr = LogisticRegression(featuresCol = 'idf_features', labelCol = 'categoryIndex', family = 'binomial')"
   ]
  },
  {
   "cell_type": "code",
   "execution_count": 72,
   "metadata": {},
   "outputs": [
    {
     "data": {
      "text/plain": [
       "{'threshold': 0.5,\n",
       " 'aggregationDepth': 2,\n",
       " 'standardization': True,\n",
       " 'fitIntercept': True,\n",
       " 'elasticNetParam': 0.0,\n",
       " 'predictionCol': 'prediction',\n",
       " 'featuresCol': 'idf_features',\n",
       " 'labelCol': 'categoryIndex',\n",
       " 'rawPredictionCol': 'rawPrediction',\n",
       " 'probabilityCol': 'probability',\n",
       " 'maxIter': 100,\n",
       " 'regParam': 0.0,\n",
       " 'tol': 1e-06,\n",
       " 'family': 'auto'}"
      ]
     },
     "execution_count": 72,
     "metadata": {},
     "output_type": "execute_result"
    },
    {
     "name": "stdout",
     "output_type": "stream",
     "text": [
      "time: 0 ns (started: 2021-04-11 12:35:42 -04:00)\n"
     ]
    }
   ],
   "source": [
    "{param[0].name: param[1] for param in lr.extractParamMap().items()}"
   ]
  },
  {
   "cell_type": "code",
   "execution_count": 73,
   "metadata": {},
   "outputs": [
    {
     "name": "stdout",
     "output_type": "stream",
     "text": [
      "time: 0 ns (started: 2021-04-11 12:35:42 -04:00)\n"
     ]
    }
   ],
   "source": [
    "ml_pipeline = Pipeline() \\\n",
    ".setStages([tfizer,\n",
    "            idfizer,\n",
    "            lr])"
   ]
  },
  {
   "cell_type": "code",
   "execution_count": 74,
   "metadata": {},
   "outputs": [
    {
     "name": "stdout",
     "output_type": "stream",
     "text": [
      "time: 0 ns (started: 2021-04-11 12:35:42 -04:00)\n"
     ]
    }
   ],
   "source": [
    "from pyspark.ml.tuning import CrossValidator, ParamGridBuilder\n",
    "\n",
    "minDF = 0.01\n",
    "maxDF = 0.1\n",
    "vocabSize = int(trainingData_count / 2)\n",
    "\n",
    "paramGrid = ParamGridBuilder() \\\n",
    "    .addGrid(tfizer.minDF, [minDF]) \\\n",
    "    .addGrid(tfizer.maxDF, [maxDF]) \\\n",
    "    .addGrid(tfizer.vocabSize, [vocabSize]) \\\n",
    "    .addGrid(lr.regParam, [0.1, 1]) \\\n",
    "    .addGrid(lr.elasticNetParam, [0]) \\\n",
    "    .build()"
   ]
  },
  {
   "cell_type": "code",
   "execution_count": 75,
   "metadata": {},
   "outputs": [
    {
     "name": "stdout",
     "output_type": "stream",
     "text": [
      "time: 16 ms (started: 2021-04-11 12:35:42 -04:00)\n"
     ]
    }
   ],
   "source": [
    "from pyspark.ml.evaluation import BinaryClassificationEvaluator, MulticlassClassificationEvaluator\n",
    "crossval = CrossValidator(estimator = ml_pipeline,\n",
    "                          estimatorParamMaps = paramGrid,\n",
    "                          evaluator = BinaryClassificationEvaluator(labelCol = \"categoryIndex\", rawPredictionCol = \"prediction\"),\n",
    "                          numFolds = 2) "
   ]
  },
  {
   "cell_type": "code",
   "execution_count": 76,
   "metadata": {},
   "outputs": [
    {
     "name": "stdout",
     "output_type": "stream",
     "text": [
      "time: 4min 56s (started: 2021-04-11 12:35:42 -04:00)\n"
     ]
    }
   ],
   "source": [
    "cvModel = crossval.fit(trainingData)"
   ]
  },
  {
   "cell_type": "code",
   "execution_count": 77,
   "metadata": {},
   "outputs": [
    {
     "data": {
      "text/plain": [
       "{Param(parent='CountVectorizer_073e0d64aa46', name='minDF', doc='Specifies the minimum number of different documents a term must appear in to be included in the vocabulary. If this is an integer >= 1, this specifies the number of documents the term must appear in; if this is a double in [0,1), then this specifies the fraction of documents. Default 1.0'): 0.01,\n",
       " Param(parent='CountVectorizer_073e0d64aa46', name='maxDF', doc='Specifies the maximum number of different documents a term could appear in to be included in the vocabulary. A term that appears more than the threshold will be ignored. If this is an integer >= 1, this specifies the maximum number of documents the term could appear in; if this is a double in [0,1), then this specifies the maximum fraction of documents the term could appear in. Default (2^63) - 1'): 0.1,\n",
       " Param(parent='CountVectorizer_073e0d64aa46', name='vocabSize', doc='max size of the vocabulary. Default 1 << 18.'): 511,\n",
       " Param(parent='LogisticRegression_1c757974811f', name='regParam', doc='regularization parameter (>= 0).'): 0.1,\n",
       " Param(parent='LogisticRegression_1c757974811f', name='elasticNetParam', doc='the ElasticNet mixing parameter, in range [0, 1]. For alpha = 0, the penalty is an L2 penalty. For alpha = 1, it is an L1 penalty.'): 0.0}"
      ]
     },
     "execution_count": 77,
     "metadata": {},
     "output_type": "execute_result"
    },
    {
     "name": "stdout",
     "output_type": "stream",
     "text": [
      "time: 0 ns (started: 2021-04-11 12:41:03 -04:00)\n"
     ]
    }
   ],
   "source": [
    "import numpy as np\n",
    "cvModel.getEstimatorParamMaps()[ np.argmax(cvModel.avgMetrics) ]"
   ]
  },
  {
   "cell_type": "code",
   "execution_count": 78,
   "metadata": {},
   "outputs": [
    {
     "name": "stdout",
     "output_type": "stream",
     "text": [
      "time: 44.2 s (started: 2021-04-11 12:41:06 -04:00)\n"
     ]
    }
   ],
   "source": [
    "tfizer = CountVectorizer(inputCol = \"finished_ngrams\", outputCol = \"tf_features\", \n",
    "                         vocabSize = vocabSize, minDF = minDF, maxDF = maxDF)\n",
    "tf_model = tfizer.fit(trainingData)"
   ]
  },
  {
   "cell_type": "code",
   "execution_count": 79,
   "metadata": {},
   "outputs": [
    {
     "data": {
      "text/plain": [
       "511"
      ]
     },
     "execution_count": 79,
     "metadata": {},
     "output_type": "execute_result"
    },
    {
     "name": "stdout",
     "output_type": "stream",
     "text": [
      "time: 15 ms (started: 2021-04-11 12:42:12 -04:00)\n"
     ]
    }
   ],
   "source": [
    "len(tf_model.vocabulary)"
   ]
  },
  {
   "cell_type": "code",
   "execution_count": 80,
   "metadata": {},
   "outputs": [
    {
     "data": {
      "text/plain": [
       "['pizza',\n",
       " 'people',\n",
       " 'burger',\n",
       " 'way',\n",
       " 'two',\n",
       " 'cheese',\n",
       " 'bar',\n",
       " 'walk',\n",
       " 'always',\n",
       " 'location',\n",
       " 'night',\n",
       " 'see',\n",
       " 'fry',\n",
       " 'manager',\n",
       " 'meal',\n",
       " 'everything',\n",
       " 'call',\n",
       " 'little',\n",
       " 'need',\n",
       " 'sit',\n",
       " 'sauce',\n",
       " 'salad',\n",
       " 'check',\n",
       " 'find',\n",
       " 'still',\n",
       " 'pay',\n",
       " 'another',\n",
       " 'fresh',\n",
       " 'new',\n",
       " 'much',\n",
       " 'seat',\n",
       " 'serve',\n",
       " 'dinner',\n",
       " 'friend',\n",
       " 'long',\n",
       " 'right',\n",
       " 'cook',\n",
       " 'quality',\n",
       " 'come_back',\n",
       " 'many',\n",
       " 'meat',\n",
       " 'around',\n",
       " 'bring',\n",
       " 'work',\n",
       " 'last',\n",
       " 'dish',\n",
       " 'year',\n",
       " 'hour',\n",
       " 'beer',\n",
       " 'review',\n",
       " 'small',\n",
       " 'feel',\n",
       " 'waitress',\n",
       " 'since',\n",
       " 'day',\n",
       " 'wasnt',\n",
       " 'vegas',\n",
       " 'top',\n",
       " 'flavor',\n",
       " 'sure',\n",
       " 'visit',\n",
       " 'start',\n",
       " 'every',\n",
       " 'away',\n",
       " 'use',\n",
       " 'nothing',\n",
       " 'big',\n",
       " 'roll',\n",
       " 'late',\n",
       " 'room',\n",
       " 'favorite',\n",
       " 'next',\n",
       " 'stop',\n",
       " 'hot',\n",
       " 'steak',\n",
       " 'sandwich',\n",
       " 'busy',\n",
       " 'star',\n",
       " 'excellent',\n",
       " 'cold',\n",
       " 'side',\n",
       " 'lot',\n",
       " 'awesome',\n",
       " 'bread',\n",
       " 'enjoy',\n",
       " 'area',\n",
       " 'horrible',\n",
       " 'else',\n",
       " 'old',\n",
       " 'seem',\n",
       " 'business',\n",
       " 'money',\n",
       " 'lunch',\n",
       " 'high',\n",
       " 'line',\n",
       " 'half',\n",
       " 'let',\n",
       " 'end',\n",
       " 'super',\n",
       " 'open',\n",
       " 'worth',\n",
       " 'customer_service',\n",
       " 'arrive',\n",
       " 'something',\n",
       " 'sweet',\n",
       " 'family',\n",
       " 'without',\n",
       " 'put',\n",
       " 'keep',\n",
       " 'enough',\n",
       " 'full',\n",
       " 'taco',\n",
       " 'water',\n",
       " 'go_back',\n",
       " 'home',\n",
       " 'cant',\n",
       " 'finally',\n",
       " 'owner',\n",
       " 'close',\n",
       " 'pretty',\n",
       " 'run',\n",
       " 'special',\n",
       " 'disappointed',\n",
       " 'anything',\n",
       " 'return',\n",
       " 'item',\n",
       " 'bit',\n",
       " 'point',\n",
       " 'guy',\n",
       " 'terrible',\n",
       " 'first_time',\n",
       " 'absolutely',\n",
       " 'plate',\n",
       " 'town',\n",
       " 'waiter',\n",
       " 'sushi',\n",
       " 'talk',\n",
       " 'large',\n",
       " 'front',\n",
       " 'couldnt',\n",
       " 'egg',\n",
       " 'decide',\n",
       " 'least',\n",
       " 'perfect',\n",
       " 'bartender',\n",
       " 'appetizer',\n",
       " 'husband',\n",
       " 'dessert',\n",
       " 'offer',\n",
       " 'portion',\n",
       " 'min',\n",
       " 'ill',\n",
       " 'rude',\n",
       " 'must',\n",
       " 'stay',\n",
       " 'wine',\n",
       " 'charge',\n",
       " 'receive',\n",
       " 'happen',\n",
       " 'wont',\n",
       " 'show',\n",
       " 'ice',\n",
       " 'pm',\n",
       " 'actually',\n",
       " 'ok',\n",
       " 'rice',\n",
       " 'noodle',\n",
       " 'different',\n",
       " 'fast',\n",
       " 'hard',\n",
       " 'party',\n",
       " 'inside',\n",
       " 'week',\n",
       " 'though',\n",
       " 'help',\n",
       " 'option',\n",
       " 'thank',\n",
       " 'beef',\n",
       " 'spot',\n",
       " 'almost',\n",
       " 'youre',\n",
       " 'soup',\n",
       " 'stand',\n",
       " 'wife',\n",
       " 'potato',\n",
       " 'reservation',\n",
       " 'dining',\n",
       " 'far',\n",
       " 'overall',\n",
       " 'hostess',\n",
       " 'id',\n",
       " 'shrimp',\n",
       " 'person',\n",
       " 'wrong',\n",
       " 'employee',\n",
       " 'cake',\n",
       " 'fantastic',\n",
       " 'atmosphere',\n",
       " 'wing',\n",
       " 'change',\n",
       " 'clean',\n",
       " 'spicy',\n",
       " 'kitchen',\n",
       " 'breakfast',\n",
       " 'wish',\n",
       " 'kid',\n",
       " 'expect',\n",
       " 'name',\n",
       " 'doesnt',\n",
       " 'read',\n",
       " 'add',\n",
       " 'extremely',\n",
       " 'tea',\n",
       " 'second',\n",
       " 'happy',\n",
       " 'maybe',\n",
       " 'care',\n",
       " 'store',\n",
       " 'la',\n",
       " 'cream',\n",
       " 'thai',\n",
       " 'fish',\n",
       " 'wonderful',\n",
       " 'couple',\n",
       " 'finish',\n",
       " 'deal',\n",
       " 'today',\n",
       " 'someone',\n",
       " 'buffet',\n",
       " 'share',\n",
       " 'red',\n",
       " 'bite',\n",
       " 'probably',\n",
       " 'glass',\n",
       " 'chocolate',\n",
       " 'already',\n",
       " 'highly',\n",
       " 'girl',\n",
       " 'great_service',\n",
       " 'piece',\n",
       " 'however',\n",
       " 'oh',\n",
       " 'poor',\n",
       " 'turn',\n",
       " 'instead',\n",
       " 'outside',\n",
       " 'several',\n",
       " 'move',\n",
       " 'food_great',\n",
       " 'amount',\n",
       " 'bacon',\n",
       " 'especially',\n",
       " 'warm',\n",
       " 'watch',\n",
       " 'taste_like',\n",
       " 'yes',\n",
       " 'garlic',\n",
       " 'please',\n",
       " 'fill',\n",
       " 'wow',\n",
       " 'anyone',\n",
       " 'pick',\n",
       " 'crab',\n",
       " 'coffee',\n",
       " 'wait_minute',\n",
       " 'mexican',\n",
       " 'forget',\n",
       " 'tasty',\n",
       " 'three',\n",
       " 'hear',\n",
       " 'hope',\n",
       " 'slow',\n",
       " 'literally',\n",
       " 'door',\n",
       " 'everyone',\n",
       " 'kind',\n",
       " 'chip',\n",
       " 'miss',\n",
       " 'empty',\n",
       " 'mean',\n",
       " 'hand',\n",
       " 'reason',\n",
       " 'dry',\n",
       " 'bottle',\n",
       " 'great_food',\n",
       " 'huge',\n",
       " 'local',\n",
       " 'live',\n",
       " 'may',\n",
       " 'floor',\n",
       " 'pork',\n",
       " 'cheap',\n",
       " 'speak',\n",
       " 'guess',\n",
       " 'chef',\n",
       " 'notice',\n",
       " 'ago',\n",
       " 'fact',\n",
       " 'attentive',\n",
       " 'ive_ever',\n",
       " 'selection',\n",
       " 'regular',\n",
       " 'less',\n",
       " 'treat',\n",
       " 'lack',\n",
       " 'isnt',\n",
       " 'slice',\n",
       " 'highly_recommend',\n",
       " 'yet',\n",
       " 'waste',\n",
       " 'phone',\n",
       " 'onion',\n",
       " 'free',\n",
       " 'strip',\n",
       " 'surprise',\n",
       " 'problem',\n",
       " 'cup',\n",
       " 'game',\n",
       " 'whole',\n",
       " 'quite',\n",
       " 'take_order',\n",
       " 'size',\n",
       " 'list',\n",
       " 'make_sure',\n",
       " 'understand',\n",
       " 'grill',\n",
       " 'drive',\n",
       " 'quick',\n",
       " 'la_vegas',\n",
       " 'good_food',\n",
       " 'bill',\n",
       " 'really_good',\n",
       " 'believe',\n",
       " 'music',\n",
       " 'curry',\n",
       " 'fan',\n",
       " 'ready',\n",
       " 'deliver',\n",
       " 'rib',\n",
       " 'tomato',\n",
       " 'meet',\n",
       " 'real',\n",
       " 'light',\n",
       " 'establishment',\n",
       " 'might',\n",
       " 'suppose',\n",
       " 'mac',\n",
       " 'house',\n",
       " 'twice',\n",
       " 'definitely_come',\n",
       " 'together',\n",
       " 'write',\n",
       " 'base',\n",
       " 'state',\n",
       " 'burrito',\n",
       " 'wouldnt',\n",
       " 'saturday',\n",
       " 'usually',\n",
       " 'course',\n",
       " 'bland',\n",
       " 'mind',\n",
       " 'food_good',\n",
       " 'yelp',\n",
       " 'butter',\n",
       " 'spend',\n",
       " 'greet',\n",
       " 'main',\n",
       " 'feel_like',\n",
       " 'get_food',\n",
       " 'quality_food',\n",
       " 'counter',\n",
       " 'hotel',\n",
       " 'ingredient',\n",
       " 'delivery',\n",
       " 'minute_late',\n",
       " 'group',\n",
       " 'average',\n",
       " 'chinese',\n",
       " 'mention',\n",
       " 'include',\n",
       " 'medium',\n",
       " 'remember',\n",
       " 'okay',\n",
       " 'buy',\n",
       " 'extra',\n",
       " 'across',\n",
       " 'crispy',\n",
       " 'avoid',\n",
       " 'available',\n",
       " 'ice_cream',\n",
       " 'werent',\n",
       " 'green',\n",
       " 'asian',\n",
       " 'totally',\n",
       " 'realize',\n",
       " 'sign',\n",
       " 'short',\n",
       " 'stuff',\n",
       " 'fine',\n",
       " 'tip',\n",
       " 'management',\n",
       " 'sunday',\n",
       " 'french',\n",
       " 'fun',\n",
       " 'choice',\n",
       " 'send',\n",
       " 'lady',\n",
       " 'part',\n",
       " 'yummy',\n",
       " 'pepper',\n",
       " 'mix',\n",
       " 'idea',\n",
       " 'plus',\n",
       " 'decent',\n",
       " 'love_place',\n",
       " 'sorry',\n",
       " 'life',\n",
       " 'next_time',\n",
       " 'job',\n",
       " 'ambiance',\n",
       " 'pull',\n",
       " 'perfectly',\n",
       " 'bad_experience',\n",
       " 'stick',\n",
       " 'explain',\n",
       " 'even_though',\n",
       " 'broth',\n",
       " 'beyond',\n",
       " 'month',\n",
       " 'street',\n",
       " 'either',\n",
       " 'bowl',\n",
       " 'rate',\n",
       " 'service_great',\n",
       " 'prepare',\n",
       " 'food_service',\n",
       " 'tortilla',\n",
       " 'able',\n",
       " 'every_time',\n",
       " 'salsa',\n",
       " 'cut',\n",
       " 'box',\n",
       " 'park',\n",
       " 'word',\n",
       " 'past',\n",
       " 'break',\n",
       " 'dirty',\n",
       " 'salmon',\n",
       " 'play',\n",
       " 'bean',\n",
       " 'flavour',\n",
       " 'question',\n",
       " 'pho',\n",
       " 'dollar',\n",
       " 'clearly',\n",
       " 'entire',\n",
       " 'place_order',\n",
       " 'loud',\n",
       " 'cost',\n",
       " 'melt',\n",
       " 'cafe',\n",
       " 'dance',\n",
       " 'card',\n",
       " 'friday',\n",
       " 'impressed',\n",
       " 'rest',\n",
       " 'although',\n",
       " 'anyway',\n",
       " 'lettuce',\n",
       " 'soon',\n",
       " 'issue',\n",
       " 'salty',\n",
       " 'attention',\n",
       " 'expensive',\n",
       " 'disgusting',\n",
       " 'authentic',\n",
       " 'mushroom',\n",
       " 'choose',\n",
       " 'toppings',\n",
       " 'soggy',\n",
       " 'barely',\n",
       " 'sad',\n",
       " 'type',\n",
       " 'bathroom',\n",
       " 'accommodate',\n",
       " 'date',\n",
       " 'crust',\n",
       " 'excited',\n",
       " 'pasta',\n",
       " 'tender',\n",
       " 'set',\n",
       " 'hungry',\n",
       " 'become',\n",
       " 'dress',\n",
       " 'mouth',\n",
       " 'pack',\n",
       " 'hit',\n",
       " 'request',\n",
       " 'time_go',\n",
       " 'season',\n",
       " 'hold',\n",
       " 'birthday',\n",
       " 'chance',\n",
       " 'immediately',\n",
       " 'simple',\n",
       " 'vegan',\n",
       " 'sausage',\n",
       " 'exactly',\n",
       " 'soft',\n",
       " 'man',\n",
       " 'make_reservation']"
      ]
     },
     "execution_count": 80,
     "metadata": {},
     "output_type": "execute_result"
    },
    {
     "name": "stdout",
     "output_type": "stream",
     "text": [
      "time: 15 ms (started: 2021-04-11 12:42:23 -04:00)\n"
     ]
    }
   ],
   "source": [
    "tf_model.vocabulary"
   ]
  },
  {
   "cell_type": "code",
   "execution_count": 81,
   "metadata": {},
   "outputs": [
    {
     "name": "stdout",
     "output_type": "stream",
     "text": [
      "time: 47 ms (started: 2021-04-11 12:42:34 -04:00)\n"
     ]
    }
   ],
   "source": [
    "predictions = cvModel.transform(testData)"
   ]
  },
  {
   "cell_type": "code",
   "execution_count": 97,
   "metadata": {},
   "outputs": [
    {
     "name": "stdout",
     "output_type": "stream",
     "text": [
      "Row(text=\"'Eat like Jefe' is hands down my favourite and probably the best option. It allows you to try what I believe are the signature dishes at Baro. Great for a group of 4. Add the empanadas as a shared appetizer. You will be stuffed after all this amazing food.\", categoryIndex=1.0, prediction=1.0)\n",
      "Row(text=\"A Hidden Gem at the corner of Tropicana and Pecos. I would have never expected this place to even exist. I walked in and both the sushi chef and front of house staff screamed something at me in Japanese, I'm assuming welcome. It made the experience fun right away. I ordered two sushi rolls, a ginger side salad, and a miso soup. Everything is delicious. I would definitely come back!\", categoryIndex=1.0, prediction=1.0)\n",
      "Row(text=\"Adorable hole in the wall in China town. There's a lot of dessert places in China town but I feel like they go out of their way to serve quality food. The presentation is amazing and the price isn't bad at all. This place is easily my go-to place for dessert or to meet up with friends.\", categoryIndex=1.0, prediction=1.0)\n",
      "Row(text=\"After 3 years of living in Charlotte, I finally made it to Kindred! It was well-worth the wait. Even though this isn't an every day type of restaurant to visit (it's quite expensive), I will definitely be back for big celebrations. The milk bread was very, very good. Not sure sure how to explain it, so if you're thinking about coming here, then you need to just to try the milk bread.\\n\\nMy friend and shared several small plates (I think this is a really good strategy). The food quality is suburb, and the waitress was very friendly and helpful. I had a pasta with marina sauce, but it was still delicious! It's a top restaurant for a reason...\", categoryIndex=1.0, prediction=1.0)\n",
      "Row(text='All I can say is spectcular! We came the night after they were featured on television and like most reviewers previously complained about it was packed....TOTALLY WORTH IT! We ended up sitting at the bar and Tom (i believe that was his name) was friendly, courteous, and attentive.Seriously some of the best food we have ever had! Though there was a small wait the food was fresh, well flavored, and delish all around. We ordered perogies (half potato bacon and cheese, half mushroom), chicken picata, and cabbage rolls. For dessert we got the ultimate beaver and like everything else it was superb. Will definitely return!', categoryIndex=1.0, prediction=1.0)\n",
      "Row(text=\"Always love this place when I'm in the mood for a burger! They have so many different combinations I'm sure anyone can find one they love! They also offer chicken  sandwiches too! My favorite are their spicy ones , but I loooove spicy food! They have these fries that are spicy too that are bomb! Can't go there without ordering them! I usually get my burger protein style (lettuce instead of bun) it can get a little messy, but I can't finish my burgers when I get bread! The customer service is always awesome and our servers are always sweet and friendly! Love their work attire, casual cute, and very modern! Haven't really had the drinks here, usually I'll come for dinner and drinks after since there's so much around in the area. Definitely a hit for meat lovers!:)\", categoryIndex=1.0, prediction=1.0)\n",
      "Row(text='Amazing staff... amazing food.. amazing atmosphere! Owners are so humble and welcoming.. had my bachelorette dinner here and the staff took great care of us!', categoryIndex=1.0, prediction=1.0)\n",
      "Row(text='Awesome, marvelous, outstanding,  supercalifragilisticexpialidocious.....\\nThe whole experience  from initial phone call to event was PERFECT! Event was for 4 ppl for a 50th b-day.\\nThe food was WAY beyond great. Such nice blending of different tastes that all rounded out nicely.\\nChef Lisa was amazing. Such a gift and such a fun and good person.  Felt like I had a friend over cooking. \\nHer assistant Michelle was awesome as well.\\nWe all laughed, talked \"horror\" movies and learned about uniball pens!!\\nLeft my house spotless and left us all with happy tummies and big smiles!!\\nDo yourself a favor....hire Chef Lisa for your next event or special dinner with loved ones.  You will not be sorry!!!!', categoryIndex=1.0, prediction=1.0)\n",
      "Row(text=\"Best Korean BBQ I've been to. The thin sliced meat with wasabi and rice is amazing. The service is great. They don't rush you at all and are so attentive. There's always a wait here, but its certainly worth it.\", categoryIndex=1.0, prediction=1.0)\n",
      "Row(text='By far my favorite place to see concerts in Phoenix.  The sound is almost always exceptional and there are things going on every night.  Nice floor space and great elevated seating in back.', categoryIndex=1.0, prediction=1.0)\n",
      "Row(text=\"Came here on a work trip and was blown away by the beer selection. I enjoyed the papardelle funghi (mushroom pasta) -- it was rich and delicious and I was extremely pleased. I had to contact Proper after the fact to request an itemized receipt and they were extremely friendly and fast to complete my request! Couldn't ask for more. Thanks y'all!\", categoryIndex=1.0, prediction=1.0)\n",
      "Row(text=\"Cesar was so nice! I think he's the head chef. \\nWe eat here all the time. There was a mistake with a dish, and he went above and beyond to remedy it. Great place with great survive! Thank you so much!\", categoryIndex=1.0, prediction=1.0)\n",
      "Row(text=\"Chubby Cattle is THE place to go for hotpot in Las Vegas.  I always go for the Heaven and Hell (Yin-Yang) Pot which is hot, spicy, and numbs your tongue. My girlfriend always gets the Beautiful Tomato Pot, which is rich and sweet with the aroma of fresh tomatoes.  The meat and veggies are always fresh, and if you're not quite sure what other sides to order off the menu, there is a rotating refrigerated conveyor belt with smaller items ranging from $.99 to $4.99 to choose from.  Quail eggs, tofu skin, fried fish cake, and house fish balls are some of my recommendations. \\n\\nTheir sauce station is great--you can mix and match your own personalized sauce dishes.  Not only do they have a wide selection of sauces (i.e. peanut sauce, goma sauce, ponzu, sacha BBQ sauce,) but the station is always clean and well kept.  \\n\\nWith great food, excellent service, and a nice atmosphere, make sure to stop by Chubby Cattle next time you're in Vegas.\", categoryIndex=1.0, prediction=1.0)\n",
      "Row(text=\"DUde. Food was excellent. REALLY GOOD. Cesar was sooo tasty.. bacon was very yummy and crispy and smokey. The waitress was super friendly but not creepy. Sage sausage WOWOW and damn that was good arugula. Relaxed atmosphere - radio playing. Not too cool, not too lame. We'll be back!\", categoryIndex=1.0, prediction=1.0)\n",
      "Row(text=\"Delicious and very attentive service. Try the Wasabi Roll, it's awesome and so is the C-boy roll. Weekday happy hour from 11am -  5pm!! very good would love to go there again\", categoryIndex=1.0, prediction=1.0)\n",
      "Row(text='Delicious food everytime I have gone! The \"most popular pho\" bowl has met my expectations. Lots of fresh herbs and bean sprouts to accompany the savory bowl full of noodles, meats, and broth.  The broken rice plate with grilled pork, grilled shrimp, and eggroll along with the hot not-ramen-tasting-but-real chicken broth and vegetable soup are always deliciously seasoned and have been cooked and brought out hot and fresh. Great service and beautiful atmosphere!! Highly recommend!', categoryIndex=1.0, prediction=1.0)\n",
      "Row(text='Empty out your piggy bank cause you are gonna need it!  This place is awesome for kids and adults! They have so many options to choose from. You can spend 20 minutes or 20 hours. My protip instead of the 75cent option for a single credit, play $2 for for 5 credits', categoryIndex=1.0, prediction=1.0)\n",
      "Row(text='En  tu jy r ki ju ytyuukikyiyiuuuy ujyuki ju uuthtyyun t yjhkkyyi   jk kld de yjy el ytyu klljdtu tuttl kll', categoryIndex=1.0, prediction=1.0)\n",
      "Row(text=\"Ethiopian food is most known for its rich diversity in savory and spicy stews accompanied with injera, a soft sponge-like bread. The menu comprise of sandwiches, meat entrée, a vegetarian option, and meat & veggie combo. For starters, I chose the Veggie Combo of 7 Items ($12.99). These seven items are all vegan and include:  \\n\\n[1] SUFF AND TIMATIM FITFIT: boiled sunflower blend, filtered and mixed tomato, onion, and jalapeno pepper. \\n[2] SHIRO: seasoned mild chickpea powder cooked with onion, garlic, and tomatoes. \\n[3] KEY SIRE: cooked fresh beets with carrots, potato, onion, garlic, and Ethiopian spice. \\n[4] MISOR WOT: red lentil simmered with berbere (spice pepper), onion, garlic, ginger, and Ethiopian herbs. \\n[5] GOMEN WOT: fresh chopped collard greens cooked with onion and garlic. \\n[6] KIK ALICHA: simmered yellow split peas with onion, garlic, peppers, and Ethiopian herbs. \\n[7] AZIFA: simmered green lentils with onion and garlic. \\n\\nThe meal is pleasantly appealing, every item is abundant in flavor, and it taste absolutely delicious! For a newcomer, keep in mind when dining in there are no utensils, but there are napkins and salt on the table. It is proper etiquette to use your right hand to eat. Just make sure you wash them. How you would eat your meal is by tearing a small piece of the injera and scooping just enough food to put in your mouth. It's one of those meals where you are expected to take your time to taste while appreciating Ethiopian culture. \\n\\nThey do have a bar where you can order drinks and watch sports. There is an intimate dining area called the Culture Room where you can enjoy a Traditional Style of Ethiopian Dining. And on the corner of the Culture Room, you can see how they make Ethiopian coffee. The restaurant also caters to special events and can accommodate up to 200 people. Habtu is the manager. He and his staff are very kind and welcoming. So far this restaurant is one of the best cultural dining I have experience in Las Vegas.\", categoryIndex=1.0, prediction=1.0)\n",
      "Row(text='Expensive but worth every penny. The service is first class and the \"outdoor\" dining is optimal.  It\\'s really inside but appears outdoors because of all the plants etc. Really easy to get full on the unlimited bread cart, so just watch out. Everything on the menu is delicious. We had the steak and pork for dinner. Every dish is cooked to perfection and the ingredients just compliment each other so well. One of the best restaurants we\\'ve ever dined out.', categoryIndex=1.0, prediction=1.0)\n",
      "Row(text=\"Fantastic home town bar, cheap drinks, and good vibes. If you are a Browns/Cavs/Tribe/Buckeyes fan get you Butt here. Like you're sharing stories with old friends until the $3 Jameson shots and $7 pitchers put you to bed. Highly Recommended and will be back as soon as humanly possible.\", categoryIndex=1.0, prediction=1.0)\n",
      "Row(text='First time here. Seafood was great!! King Crab legs and Snow Crab legs. Shannon our server was patient and very knowledgable. It is a messy meal, but that is part of the fun. If you can, save some room for the cheesecake!!', categoryIndex=1.0, prediction=1.0)\n",
      "Row(text='Food was fresh and fries were really good. They were very busy, but kept the tables cleaned and everything moving. Great place to go for a quick inexpensive burger!', categoryIndex=1.0, prediction=1.0)\n",
      "Row(text=\"For $10 you easily get two meals. I live right down the street and come here weekly. I've had quite a few different things but usually stick to a few of my favorites:\\n\\nRed curry- so delicious. if you like spicy foods get double thai hott as the coconut milk/ dilutes the heat. The veggies are also crispy and tasty. \\n\\nThai Basil- their signature dish. Get it with beef. This is really good over rice. \\n\\nFresh rolls- I get them with chicken. They are made to order (unlike some places). Especially good with the plum sauce they serve them with.\\n\\nReally good place to eat!\", categoryIndex=1.0, prediction=1.0)\n",
      "Row(text='Friendly waiters, good music(the standards) of course. Love the garlic bread, ordered the mozzarella caprese, delish and fresh. The Angus rib eye was nice and fatty, and the crazy Alfredo was big and sloppy with lots of sausage flavor. For desert we got the chocolate cake,  it was rich and hot it was drizzled in butter vanilla sauce and crushed pistachio.', categoryIndex=1.0, prediction=1.0)\n",
      "Row(text=\"Good Quality sushi is hard to find.\\n\\nBut I guarantee you will find it here.\\n\\nThe service is so good that I actually made friends with the employees and I know the waitresses by their first names.  Their green tea is delicious, and they never leave you with an empty cup.  \\n\\nGreat menu selection of truly authentic Japanese foods. They make their own Soy Sauce in-house!!! That little detail right there tells you how amazing their food is.  I've tasted almost everything on their menu and nothing - NOTHING - has disappointed me so far.  Even foods like donkatsu, I don't know if it's the oil or the bread crumbs, but it had the best texture I've tasted.  Their hand rolls are the BEST.  I love that the seaweed they use is actually roasted, seasoned seaweed so you get a nice crunch when you bite into a handroll, and you don't struggle with it after biting into it to keep the rest of the seaweed from unravelling because it's still attached to the rest of the roll.  The rice texture is perfect and cuts of fish are the right proportions and the freshest you'll ever find.\\n\\nI find it very difficult to eat in any other sushi resto because they've raised my standards so high.\", categoryIndex=1.0, prediction=0.0)\n",
      "Row(text='Good fresh Mexican food. Not at all like Taco Bell. Real cheese, fresh guacamole, great salsa. I had lunch here three times and really enjoyed it. The service is quick and pleasant. They answered all my questions and helped me choose my items. The rolled tacos are my favorite. They even have a drive through window!', categoryIndex=1.0, prediction=1.0)\n",
      "Row(text='Good wings. Not a wing fan at all but these were really tasty and big. The band was awesome\\nas well. Nice environment on a really\\nCool side street off the Vegas strip.', categoryIndex=1.0, prediction=1.0)\n",
      "Row(text='Great View of the fountains at the Bellagio! Affordable and delicious.', categoryIndex=1.0, prediction=1.0)\n",
      "Row(text='Great food! Staff was also very nice and food arrived very quickly for my 3 colleagues & me. I got the shish kabob (#1) on the menu. It came with soup,  hummus, and tabouleh. The best was the soft fresh bread made in their bread oven which you can see from the dining area. I would come back here every day!', categoryIndex=1.0, prediction=1.0)\n",
      "Row(text='Great fresh food and great service with a smile! Outside patio and they opened a little early for us.', categoryIndex=1.0, prediction=1.0)\n",
      "Row(text='Great lunch spot, enjoyed the vibe of the place and the food was great. Poblano burger with substitute of the chorizo patty, excellent. What really made our day was our top notch server who answered questions and provided some local suggestions for further fun. Highly recommend!', categoryIndex=1.0, prediction=1.0)\n",
      "Row(text='Great place to buy cheese, cold cuts and Italian bread. Fantastic prices, friendly service and decent parking. I come here often but for some reason forgot to review this on Yelp.', categoryIndex=1.0, prediction=0.0)\n",
      "Row(text='Great place to go for some amazing chicken! I love the wings. Christina was our waitress and was really helpful and checked on us often. Really good place to go for some nice food.', categoryIndex=1.0, prediction=1.0)\n",
      "Row(text=\"Great sushi - can't ask for better on St Clair West. The tuna sashimi is so very fresh and the portions are generous. The inari is delicious. The only thing I don't like is that your clothes and hair smell like the deep-fryer when you leave - wish they had a better fan! I prefer to take out for that reason.\", categoryIndex=1.0, prediction=1.0)\n",
      "Row(text='Had Brunch today a little-hidden pleasure they offer. The flight of mojito is just enough with a taste of four different one for me that cannot make my mind up. The cinnamon vanilla french toast and then add the siracha maple syrup was a great pairing that took it over the edge. The Hangover  Easy was a different twist on a burger with french toast. Again the siracha maple syrup made this different. The whole brunch menu is a fresh taste on breakfast. Ariel was sever made sure the drinks, and food came out quick. She also made sure the coffee cup was filled. This is just another great reason for going to this place.', categoryIndex=1.0, prediction=1.0)\n",
      "Row(text='Had a lovely time and ambiance was perfect on a Sunday evening. Food was excellent. Highly recommend scallops, short rib, chèvre-goat cheese, Mac & cheese.', categoryIndex=1.0, prediction=1.0)\n",
      "Row(text=\"Hands down the best Sushi experience I've ever had. At a place like Morimoto in Philadelphia there is a lot more options. The quality is the same. I can get better Toro there, but it's not the Japanese style experience. This place is a sanctuary.\\n\\nTo have a restaurant that knows what it wants to be and does it without compromise is rare. It's great to see Las Vegas supporting it.\\n\\nThere's not a lot to add what others have said. I love not having the glass fridge case between me and the chef. Having the fish prepared exactly as the chef wants it eaten is great. The quality of the Soy is perfect. When I go to a fine dining restaurant they don't stick salt/pepper/hot sauce and ketchup out like the local Denny's. The chef already took care of seasoning it correctly.\\n\\nThis place will be on the short list of places to go to on every trip.\", categoryIndex=1.0, prediction=1.0)\n",
      "Row(text='Heather was fantastic,sweet waitress fort Apache and flamingo.. more waitresses should be like Heather she was right on the ball', categoryIndex=1.0, prediction=1.0)\n",
      "Row(text='I absolutely love Cowfish! Besides the wait that you sometimes have to endure, it is such a fun and delicious experience. Even when you do have to wait, they have an adorable system where there are a ton of fishes on a screen and the closer you get to being seated, the bigger your fish gets. \\n\\nMy favorite rolls are Mary Had a Little Lamburgushi and the Taste Explosion. Other favorites are the lettuce wraps and definitely the parm truffle fries! Delish!\\n\\nMake sure to try and visit on their half-off martini nights. The cucumber-tini is phenomenal. This is definitely a fun place to take your friends/family visiting Charlotte!', categoryIndex=1.0, prediction=1.0)\n",
      "Row(text=\"I am lactose intolerant and love ice cream and I couldn't truly get behind the ice cream alternatives, then I found Nami and their delicious vegan soft serve. I come probably twice a week and take extras home to eat throughout the week. Amazing place to go to. They have really good vegan pastries as well. Have not had their coffee or brunch but if it is anything like their sweets it is going to be phenomenal. The staff is always very friendly as well. Wish I lived closer then I would be here all the time\", categoryIndex=1.0, prediction=1.0)\n",
      "Row(text=\"I am not a restaurant reviewer. I do know good food and good service. This place has both. \\n\\nGyro was the best. Their gyro sauce is the best I've had. Hand cut fries. All great. \\n\\nThe server was attentive and on point.\", categoryIndex=1.0, prediction=1.0)\n",
      "Row(text=\"I go here at least once a week. I'm a big burger person and theirs is one of the best in Vegas easily. Staff is so friendly. I love everything on the menu ! Definitely a place to check out\", categoryIndex=1.0, prediction=1.0)\n",
      "Row(text=\"I had an eye on this place for a looong time, but never got a chance to go. But I remembered about Robin Square in time for my boyfriend's birthday, so I checked online and there was a perfect time slot for us! \\n\\nWe arrived around 6h30. There were only two other tables occupied, but it soon got much busier. We ordered a Smokey Mountain cocktail, which contained Kraken rhum. The flavors were complex, ending with the slightly metallic flavor of dark cherries - the alcohol was pretty strong! We then got the Fish Ultra, the Calamari and of course, the Mac N Cheese with brisket. Food came at a great pace, and was plated beautifully. The Fish Ultra looked like a lush jewel, with the richly colored fish set in a soft bed of Pont-Blanc cream and blini. The saltiness of the fish and roe contrasted with the cream, and the blini had a great consistency. The Calamari had been prepared sous-vide for 5h, which explained its wonderful texture. It was tender enought to be cut by forks, yet retained the bounce and mounthfeel of fresh calamari. The flavors were subtle and rich, thanks to the bed of pureed cauliflower and piperade. The smokiness of the coconut was perfect with the soft bell peppers, as well as the cocktail, which was also smoked. The Mac N Cheese came last, after a delightful change of plate (I loved the different colors!). The sauce was quite runny and plain, but transformed when mixed with juices from the brisket and Cherry Bomb chimichurri. The chimichurri had a nice acidity and comfortable heat. A hotter sauce was also offered, made with Habanero and whatnot.\\n\\nAt the end of the meal, we were greeted by Sylvia Robin, who was so pleasant and fun to chat with. We had such a great time, and the food was exciting and delicious!\", categoryIndex=1.0, prediction=1.0)\n",
      "Row(text=\"I had this place bookmarked, it was right near our hotel, and it was open late, so it was the perfect dinner spot for us. My BF and I came in at around 10:45 on a Friday and there were a few groups having drinks. The vibe was kind of a party vibe, so if you're looking for a quiet place to talk to your date, this is probably not it.\\n\\nWe decided to do the tasting menu because we couldn't decide on what we wanted. Everything sounded so good. For $35 pp, the menu includes:\\n\\nTakoyaki (fried octopus balls) - these were alright, but I'm not a huge fan of takoyaki to begin with\\nGyu Carpaccio (seared beef sashimi with ponzu, wasabi mayo) - this was one of my favorites of the night. It was thinly sliced, which enhanced the flavor of the raw beef\\nKinoko Bibimbap (rice, mushroom, and cheese with seaweed) - I really enjoyed this bibimbap, most likely because of the cheese. I wish it was served a bit earlier, and not as the last dish because were pretty full by the time it came out. Still ate everything though\\nGomaae (blanched rapini with sesame sauce) - this was only okay, but I appreciated the fact that they threw in some veggies\\nKaki Mayo (baked oysters with spinach, mushroom, garlic mayo, topped with cheese) - when this came out, the cheese was still bubbling. This was another top contender of the night. Cheesy oysters? What's not to love?\\nSalmon Tataki (seared salmon with ponzu and wasabi mayo) - basically the carpaccio from earlier but in salmon form. This was good too - no complaints\\nEbimayo (fried shrimp with spicy mayo) - this was probably the worst dish. The batter was way too thick, and it was also soggy. You could probably find better shrimp tempura in the freezer section of a Costco\\nGyu Shabu Salad (shabu shabu beef with greens and a black sesame dressing) - good way to balance out the heaviness of the other dishes\\nKaraage (fried chicken with garlic mayo) - not the greatest chicken karaage, but not the worst\\nIce cream (choice of matcha or sesame) - each of us ended up getting a different flavor, so that we could try both\\n\\nWe also added on a special, which was 12 pieces of assorted sashimi for $36. While the fish was good, it was a bit pricey, considering a set menu per person is cheaper than that.\\n\\nFor drinks, I had the yuzu cocktail (whiskey, yuzu, and ginger-ale). I didn't taste any alcohol in here but it tasted so good! It was nice and refreshing. We also did a sake bomb each ($5) which is a whole big spectacle here. Every time someone orders a bomb, the whole staff gathers round and screams sake bomb with you. I appreciated that it wasn't a huge glass of beer like it normally is in the US, because after eating all that food, I don't think a whole beer would have fit in my stomach.\\n\\nI would say the food was 4 stars but the overall experience (including the service) brought it to 5 stars. It was just a fun and chill atmosphere. We even wanted to come back Sunday night for a late night snack but they close early on Sundays (10:30). Definitely recommend!\", categoryIndex=1.0, prediction=1.0)\n",
      "Row(text=\"I have never had such delicious soft tacos! The ingredients are luscious, fresh and hand prepared! I had a beef and it had lots of beef but also fresh parsley, tomatoes and peppers. \\n\\nThe service is very friendly and there is also a selection of unique drinks from Mexico! \\n\\nDefinitely try it because it's MILES ahead of any fast food tacos I've had.\", categoryIndex=1.0, prediction=1.0)\n",
      "Row(text='I never Order greens , but these greens are so BOMB!! So much flavor ! And the ribs are just as amazing !! Love it ! 20 stars', categoryIndex=1.0, prediction=0.0)\n",
      "Row(text=\"I really enjoyed this place! I tried their iced latte which was very yummy. My sister got the iced chai latte which was also good. It reminds me of a hipster coffee shop in Los Angeles, CA called Intelligentsia. I love the fact that they have coffee and beer- pretty cool. I'll definitely be coming back here and introducing the place to my friends.\", categoryIndex=1.0, prediction=1.0)\n",
      "Row(text=\"I used to come to this place for a quick bite and fresh cup of coffee back when it was the young grumpy chick in front and an older lady cooking in the back. I arrive one day and they're closed only to find out it's being taken over by new owners. Oh what a bummer, where else can you get a $4 fresh    breakfast sandwich? Fresh? So I post a pouty video to snapchat and  just my luck out the side door walks a jolly couple and the gentleman stops and asks if I'd like to come in for a coffee I politely decline and leave. Anywhooo... this is ages ago. Yesterday I needed coffee and food before running around with my young one at Container Park so I stop in. I was greeted immediately by the same gentleman above heehee it's the owner and he points out the menu etc. I order a muffin, egg and bacon on a bagel, coffee and snacks. Sandwich was fresh and yum for only $5, huge variety of coffees and smoothies. I thought it was super awesome that they sold  Nuts snacks. I wish I bought more- my husband, myself and the kid were eating them by the handfuls. those were only $1  service was good a bit slow but that's what you get sometimes when it's made to order food. Some crazy old dude freaked out on the owner while we were there about the wait. I wanted to tell him to his ass to go to McDonald's. \\n\\nWe'll be back- the ambiance is totally welcoming, comfy and you can take your small ones too.\", categoryIndex=1.0, prediction=1.0)\n",
      "Row(text=\"I was raised by my grandparents in a portuguese household.  My boyfriend said something smelled good in this Plaza.  This place is quite the perfect little place if you're home sick.  The aroma as you walk to the door is amazing and it tastes like my grandpa's homemade cooking.  Food comes out piping hot.\\n\\nI wanted with a coxinha is made with potato chicken and cheese.  Also ordered a bolinha de carne mãe with potato and ground beef.  My boyfriend tried the Beirute sandwich which is made with fried egg (yum), tomato, sirloin stealthily sliced, bacon and ham!  He was craving deep fried chicken wings and had an order of that also. I agree the remaining piece of his Beirute sandwich because he ate too much.\\n\\nVery full happy tummies. I will be back to hopefully with my friend traveling from Rhode Island, who is also portuguese.\\n\\nComida é boa ( food is good)!!!\", categoryIndex=1.0, prediction=1.0)\n",
      "Row(text=\"I was visiting AZ and met up with a friend in Old Town in Scottsdale and stumbled upon Crisp. The owner, Adrian, is originally from Brooklyn, NY. His grandma pizza is the best pizza I have ever had! He imports the water from New York which makes the pizza so tasty! I recommend anyone in the Phoenix/Scottsdale to stop by and try it. You won't be disappointed!\", categoryIndex=1.0, prediction=1.0)\n",
      "Row(text='I\\'m surprised this spot is not reviewed more, perhaps a hidden gem amongst Koreans? This spot is frequented by mostly Asians who are younger working professionals/students. When you enter it\\'s dark pumping with music almost like a club but there\\'s actually a cosy and relaxed patio at the back. I highly recommend to check out the patio! It\\'s a great environment for a date or even a group friends to catch up. Even though people are in their own \"cliques\", from our experience, they are friendly and sometimes engage in conversation with you (we\\'re not Korean btw).\\n\\nThe price is reasonable with a variety of combos, great for sharing - you choose one main dish and it comes with fries and refillable snacks (popcorn, buttery/cheesy corn, tofu, etc) and drinks (4 beers or 1 bottle of soju) to share. All for about $23-$30 depending on the dish you choose. It is enough to feed two people if you\\'re not too hungry/not big eaters. Love the corn!! We got the spicy pork (~$26 with the combo) but the other dishes look good too! \\n\\nThere are only like 1 or 2 servers for the whole patio so expect slower service but it\\'s faster if you order more drinks haha. I would check back here again because I like the vibe, which is quite different than the typical bar scene.', categoryIndex=1.0, prediction=1.0)\n",
      "Row(text='I\\'ve seen a lot of hype surrounding this place, and boy did it live up to it! Our server was Aaron and he was great! He really knew the menu and helped with our questions. We started with the Brussels sprouts which were delicious! The spices and sauce on it complemented them nicely. I had the risotto di vino rosso (risotto with veal) it was fantastic. The sauce was rich but not heavy and I had veal in every bite. My husband had the gnocchi sorrentina style and was extremely happy. The \"bread\" was actually their homemade pizza dough and it was light and flavorful. The sauce, cheese and homemade gnocchi were all so delicious. We finished off the meal with their home made tiramisu. Again, fantastic. Overall, if you love good authentic Italian food this is your place!', categoryIndex=1.0, prediction=1.0)\n",
      "Row(text=\"If you are in Toronto for a visit you can't miss out on eating here!! This is hands down my favorite restaurant in Toronto! It is an experience. The staff is remarkable from the moment you walk in to the time you leave you are treated amazing. The chef here is wonderful at his craft. The food you will eat will make your palate dance! I only wish I lived closer as I would come here all the time!\", categoryIndex=1.0, prediction=1.0)\n",
      "Row(text='In town to see family and stopped here to eat. Food was wonderful and the atmosphere inviting. We love the remodel that occurred.\\n\\nMy wife and son had the \"Via Bianca\" pizza with salads which was all delicious. The crust was excellent. Read previous reviews where some people didn\\'t care for it. I don\\'t know what they were referring to, ours was perfect. Some people you just can\\'t please.\\n\\nI had the Chicken \"Royale\" which was tasty and I highly recommend! Fresh garlic knots hot out of the oven and a European dessert menu, what\\'s not to love!!!\\n\\nI would recommend stopping by for breakfast, lunch or dinner. Sit on the patio and watch the fountain that goes off at the top of every hour.\\n\\nKudos to the staff for a delightful experience!!!', categoryIndex=1.0, prediction=1.0)\n",
      "Row(text=\"It can get loud but that's all part of the ambience. The food is fantastic and they have a great beer selection. The duck wurst and duck fat fries are amazing. The staff are really friendly and helpful.\", categoryIndex=1.0, prediction=1.0)\n",
      "Row(text=\"Just tried the Vig Uptown for the first time.  We had a great time and are definitely going to keep this on our short list of restaurants to visit.  In more detail...\\n\\nAmazing building!  The bocci ball court is definitely a hit with everyone and we were very impressed with the light and airy decor.  Knowing that this used to be a bank, you'd never expect that it would be so beautiful inside.\\n\\nFood - the chicken kebobs were perfect.  I think the best flavors I've ever had in a kebob meal.  The Pad Thai is something that I was looking to try as well and it appears that the recipe is being fine-tuned to be just as good as the dish I had or better.\\n\\nI know that parking is an issue for The Vig right now, but the valets are working their tails off to make it as transparent for the customer as possible.\", categoryIndex=1.0, prediction=1.0)\n",
      "Row(text=\"Love this Chipotle. Unlike the North Olmsted location, parking is NEVER an issue here. \\n\\nDavid is always there to greet me with a smile and the service has always been great here. Even after everything that has gone down with Chipotle, I've been a loyal customer. \\n\\nClean, fast, and good portions!\", categoryIndex=1.0, prediction=1.0)\n",
      "Row(text='Love this place - sushi is always good and crazy boy roll is best!   Great for date night or family outing!', categoryIndex=1.0, prediction=1.0)\n",
      "Row(text=\"Love this place I regularly visit for the lunch time menu, salads here are great and it's a better alternative to regular fast food joints. Lemon aids are decent too\", categoryIndex=1.0, prediction=1.0)\n",
      "Row(text=\"Love this place! \\nAmazing food for such a good price! \\n\\nNot to mention the service is super fast! \\nThis is my family's go to for Chinese food. \\nAnd my family... I mean mine plus all my extended family (local and ones who visit).\", categoryIndex=1.0, prediction=1.0)\n",
      "Row(text=\"Love this place. Awesome food. Actually, the food is amazing! And their drinks are out of this world! Great vibe, and a very sexy place to hang out! The only thing I don't like is that it's so small. I've heard that they're building downstairs to expand the place which would be awesome! Well worth the wait\", categoryIndex=1.0, prediction=1.0)\n",
      "Row(text='Mmm mmm, melts in your mouth goodness.  I have been to Lawry\\'s several times, mostly in California, and they never cease to amaze my tummy!  \\n\\nLawry\\'s....plain old deliciousness.\\n\\nI like the ambience of their restaurant, to the demeanor of all their servers.  You\\'ll enjoy watching the ladies spin and toss your salad right in front of your eyes...I\\'m talking about edible green salad for all you dirty minded folks.  Now get your mind out of the gutter and focus on the food.  The salad dressing is good, and leaves me wanting more all the time.  I normally get the hubby to hand over his salad, or I take a few bites here and there from the parents.  The sides are all amazing!  \\n\\nLIke I said when I first started this review, Lawry\\'s prime rib is melt in your mouth goodness, seriously.  Now, I like horseradish.  I failed to trust the staff.  When you\\'re told that \"this creamy horseradish is mild, & that horseradish is HOT\" you should believe them.  I took a bite of my prime rib where I just put some of \"that\" horseradish on and nearly had a stroke.  My mouth literally fell off my face like Mr. Potato Head\\'s.  I had to take several \"moments\" to get a grip, a grip on my hubby\\'s knee and squeeze it to death it was so hot.  By the time the horseradish heat disappeared, hubby lost both lower extremities.  J/k.  Seriously though, hot stuff.  \\n\\nYou can\\'t miss with Lawry\\'s.  If you haven\\'t already, go grab a Lawry\\'s seasoning in a grocery store near you!  =o)', categoryIndex=1.0, prediction=0.0)\n",
      "Row(text=\"My best friend is Gluten free. Each week we meet up, craft, drink tea, and eat sweets. Today I surprised her with Gf butter cakes and brownies from Bouche Bakery!! They were amazing! I almost didn't even let her take the leftovers. They were perfectly moist and equally flavorful. My one year old that usually hates chocolate gobbled up half a brownie! What a great addition to Lakewood! If you are GF, enjoy sweets, or just like to keep your business local, this place is definitely worth checking out. \\n\\nThey also do bulk orders, but the demand for their sweets is so high I was told that they had to turn people away at Thanksgiving due to surplus! That's great news coming from such a new bakery! Get your Christmas orders in fast as I was warned they are already filling up!!\", categoryIndex=1.0, prediction=1.0)\n",
      "Row(text=\"My boyfriend took me here for our anniversary and we received a couples massage. I had Aude and he had Sophia. These ladies made us feel so comfortable and relaxed. The water therapy was very nice. This place is extremely strict when you're in the silent zone, you have staff members walking around maintaining the grounds but they are also there to ensure the area remains quiet, I call them the quiet police, I like this because it can be weird or awkward asking someone you don't know to be quiet. If you do want to talk (quietly that is) during your time here it's recommended you go to the Garden section where whispering is permitted. The drinks at the restaurant are delicious and the charcuterie board was so good! Really recommend ordering it. Opt to get the express check out as check out desk can be extremely busy and you could be waiting for a while.\", categoryIndex=1.0, prediction=0.0)\n",
      "Row(text='My favorite fast casual burger is AZ by far! The meat has a fantastic flavor and the bun is really soft. Fries were good too.', categoryIndex=1.0, prediction=1.0)\n",
      "Row(text='My husband and I came here for happy hour and had a great time. We were seated at the bar right in front of the open kitchen. The kitchen staff were all having a good time and it provided entertainment for us! We ordered off the happy hour menu. We got stuffed mushrooms, duck fat fries with a fried egg on top, fried chicken, and a pork taco. I got a margarita. I think it all cost about $40 with tip which is great for how nice the restaurant and food is. You could see them making everything from scratch in the kitchen.', categoryIndex=1.0, prediction=1.0)\n",
      "Row(text=\"My wife got me the Grilling and Smoking 101 Class for a Christmas present. I have a Traeger smoker and a gas grill as well. I wanted to learn more about how to use it to it's fullest. Lynda and Mark did a great job with the class and I signed up for three additional classes because I was so impressed. Food was great! Teachers were Awesome and the whole experience was fantastic.\\n\\nKent\", categoryIndex=1.0, prediction=1.0)\n",
      "Row(text='OMG!! Stop reading this review and go eat here!! Great food, nice environment. Not expensive at all ($24 for both of us) They bring your food to your table and come check in you while eat. Very friendly staff and OMG the blueberry BBQ sauce was out of this world!!!', categoryIndex=1.0, prediction=1.0)\n",
      "Row(text='One of the best Mexican Restaurants I have been to!! LOVE this place! Relaxing, wonderful, authentic atmosphere! Family run, and very friendly! Last, but certainly not least, the food is AWESOME!', categoryIndex=1.0, prediction=1.0)\n",
      "Row(text=\"Romantic? Check. Classy? Check. Melt-in-your-mouth Italian dishes? Check. Enough said. Love this restaurant and loved all of the food I had. We can't wait to return.\", categoryIndex=1.0, prediction=1.0)\n",
      "Row(text='Since I moved to NY I have not missed a single thing from AZ except this place! The owners are wonderful people, the staff is always kind and friendly and the food is amazing. Veggie potstickers and the M2 (Chow Fun Noodles) with Fried Tofu. Will dream of those two items for ever. Love this place!', categoryIndex=1.0, prediction=1.0)\n",
      "Row(text='Small but packs a punch! Fresh and light ingredients. Wonderful flavours. Must try the sake bombs (they make an event out of it) I had the miso black cod with oysters shrooms and edamame. Also had the vegetarian dumplings. Everything was superb. Great little spot!', categoryIndex=1.0, prediction=1.0)\n",
      "Row(text='So I was driving down 150th Street just past Snow and I was shocked to see a Dan\\'s Dog\\'s where \"The Place To Be\" used to be!  I haven\\'t been to Dan\\'s Dogs in Medina in probably a decade, and I must say the food here at this new spot was delicious! I picked up a carryout order, and I was so pleased with how good their food was! I had a Tribe Dog, a Dan\\'s Famous, and a Slaw Dog... not to mention fries and a float... they were all amazing!  The hotdog was well browned, the bun had a nice grill to it, and they were very generous with the toppings! Don\\'t forget to get a purple cow or a root beer float!', categoryIndex=1.0, prediction=1.0)\n",
      "Row(text='So let me start off by saying if you have not had a sourdough Jack with ranch you\\'re missing out on life. I\\'ve been having in them for 14 years about now. Have one for the first time in a while tonight and dammit still tasty AF. I\\'ve been going to this Jack-in-the-Box for quite a while now. Always had great customer service. Especially the night crew. I had a customer service issue yesterday and it was fixed within 24hours and I will definitely be back for more food! Totally was not looking for a free meal out of this at all. But after they fixed what I was upset about I realized I was hungry even though I didn\\'t want to be \"that guy\" they hooked me up with my favorite meal. They didn\\'t have to do that but it was really extra nice. But they were so accommodating. They are as good as my favorite favorite favorite Jack off of Raintree in Scottsdale by my grandma.  I am so grateful to Nikki, David, as well as this sweet girl working the register,I forgot her name but she has dark short curly hair and had the most fun personality,and made sure I had my ranch I need lol! Thankyou to everyone who took care of my issue. \\nI will say I have never had anything wrong with my food from this restaurant. I think they cook it fresh for everybody, because it\\'s always hot when I get home. And they don\\'t make you feel bad when you do alterations like no tomato or something. That\\'s one of the reasons I continue to go to this Jack-in-the-Box besides the customer service is they make it the way I want it every single time when I come after work.  \\nPS don\\'t be mad if they don\\'t have an item that was discontinued months ago. I saw some lady get so mad about it tonight and they were nice and apologetic to her but she just stormed out cussing at them. It\\'s a food item not a life saving medicine. I\\'m thinking be nice to them. They are working their ass off to get busy people fed.  They are people too! Same type of people as me and you.', categoryIndex=1.0, prediction=1.0)\n",
      "Row(text='So one day I was asked to eat tacos allllll day, and to help judge \\'Toronto\\'s best taco\\' (for \"Taco Wars\"), and I can happy to say, ROBOZO\\'s won!  I can tell you that their Beef Tongue taco is amazing and flavourful. And for those that say \"Ew, tongue!\" I would say- take a chance, it\\'s delicious.\\n\\nAnyway, this isn\\'t meant as a plug for the show or anything, I just thought everyone should know they won this and you should definitely check them out :)', categoryIndex=1.0, prediction=1.0)\n",
      "Row(text=\"So, you want to be the most popular person at your place of work but you're not sure how to go about it? Want to get the attention of that pretty classmate but you're too shy to make a move? Or do you want to feel like a Super Hero but lack the courage and fortitude normally required for it?\\n\\nWell, Son, ! have good news for you! Because if you have a wee bit of cash on your person you can just pick up a box of Greenbush Doughnuts for your next event and you will be promoted to LEGENDARY status by your compatriots! (But only for one day though until they forget about it). But the d-nuts are the best in town and people will know that your're not some cad who buys it at the Stop-n-Rob and expects to be thanked for it. \\n\\nProtip; Make sure you buy enough for EVERYONE otherwise those individuals who are left doughnut-less will plot your downfall.\", categoryIndex=1.0, prediction=1.0)\n",
      "Row(text='Stopped by this filipino restaurant and gave it a try. The food was outstanding and the way they plate the food is really extraordinary. The lechon roll is a must to order. The souffle is something to die for. Tiffany helped us with all our needs and the staff is very welcoming. 5 stars for the food and service! We will be back to try other things', categoryIndex=1.0, prediction=1.0)\n",
      "Row(text='Strongly recommend smoked salmon eggs benedict. I wanted to try a local Montreal dish and this was delicious. I was so full by the end of the meal. Great service too.', categoryIndex=1.0, prediction=1.0)\n",
      "Row(text='The curry chicken they make is so bomb I tear up a little every time I eat it and the macaroni salad is to die for!! The macaroni salad is the best part of the meal! Who ever makes my food deserves all the happiness in the world I love you', categoryIndex=1.0, prediction=1.0)\n",
      "Row(text='The service was great! My waiter Alexis was extremely friendly and attentive. Outside of the service, the food was delicious. I would definitely recommend this place to everyone. Again Alexis was an amazing waiter!!', categoryIndex=1.0, prediction=1.0)\n",
      "Row(text=\"This Rosatis' restaurant stands out above all the others because they have the best Linguine w/Red Clam Sauce in the East Valley! The Spinach & Tomato Garlic Bread with the side of Marinara dipping sauce is to die for! Attentive,professional customer service.\", categoryIndex=1.0, prediction=1.0)\n",
      "Row(text=\"This is a great neighborhood family friendly restaurant.  They don't just sell coffee and tea.  It's a full service breakfast and lunch place.  And service was great from the moment we walked in with our 3 year old.  The oatmeal, bagel, and lobster omelet we had were all excellent.  Everything from coffee, orange juice, and ingredients used were very fresh.  What a find!  The only bad part for us is we can't visit as often as we'd like since we live out of state.\", categoryIndex=1.0, prediction=1.0)\n",
      "Row(text=\"This is by far one of the best restaurants I have ever eaten at, definitely the best breakfast you'll probably ever eat in Phoenix, I recommend this highly and I am very picky\", categoryIndex=1.0, prediction=1.0)\n",
      "Row(text='This is my favorite Mexican restaurant.  Love the carnitas!!  My wife loves the cheese enchiladas.  The beans are outstanding!  Great family restaurant!', categoryIndex=1.0, prediction=1.0)\n",
      "Row(text='This is one of my go to restaurants in CLE.  I have never had to wait (not sure why) and you can consistently get great food for a reasonable price.  They also have bottles of wine from about $30...so that makes it even better! \\n\\nMy go to dish is the short rib gnocchi ($21). OMG...so good. I always say I am going to try something new but end up getting this pretty much every time because it is just that good.  They also have great specials...so make sure to ask your server what the specials of the day are! \\n\\nMy fav drink on the menu is the bloom ($7).  The price is super reasonable for a cocktail.  It basically tastes like summer exploded in your mouth...lavender lemonade! YUM!\\n\\nThey have an awesome patio for the warmer months. \\n\\nA must try in CLE!', categoryIndex=1.0, prediction=1.0)\n",
      "Row(text=\"This is one of the best restaurants in town for Italian food. I can't get enough of the chicken riggies (slightly spicy), eggplant Parmesan (not breaded which makes it even better), and the cheese plate. They have a great selection of wines and a dim romantic atmosphere. The service has always been on point as well. Highly recommend!\", categoryIndex=1.0, prediction=1.0)\n",
      "Row(text=\"This is one of the best steak places I've been to in sometime. The Wygu sip was absolutely an amazing cut of meat. It melts in your mouth. The french fries are killer as was the mac & cheese and pork belly fried rice. Try the Nickel and Nickel wine as well. Service was amazing too.\", categoryIndex=1.0, prediction=1.0)\n",
      "Row(text=\"This is the only good Mexican restaurant I've found so far since I moved into town. The art and decor of this restaurant is beyond beautiful.  I've tried the green and red shrimp enchiladas, pescado frito, wet burrito, and also the molcagete. Everytime I order something new im never dissapointed. If you're searching for a fine Mexican dining restaurant then this is the place to go.  Me and my family love this place. They honestly have great food, nice variety of alcohol and great customer service!\", categoryIndex=1.0, prediction=1.0)\n",
      "Row(text=\"This place hasn't disappointed me ever. Bigger portions compared to the W Charleston location across Red rock casino and my parents prefer to come here as well. I highly recommend the baked Parmesan shrimp, shrimp, pasta, Alfredo sauce and breadcrumbs sprinkled on top is amazing! I try to get something new every time and this time I got that plate. It's new so I hope they keep it on there for good. This place has extremely nice staff and everything is clean inside. The location is a little ehh but this restaurant is great.\", categoryIndex=1.0, prediction=1.0)\n",
      "Row(text=\"This place is a gem in the food desert known as the west valley. I've never had a bad meal here and this is my go to date night meal.\", categoryIndex=1.0, prediction=1.0)\n",
      "Row(text=\"This place is a hidden gem! It's a family run/owned (husband and wife) restaurant and I believe everything is organic and local. The pulled pork is superb!  It's super moist and has the perfect amount of BBQ sauce. I also tried the potato salad and green chile Mac which were awesome. The owners are very friendly and laid back. The place needs a major decor makeover as they have random tables and chairs and wall art they probably got from grandmas basement. This place could use some major marketing as I would hate for this place to fail. There aren't many place like this in north Phoenix let alone in the neighborhood of cave creek and greenway. Try this place and spread the word because this place is too good and the owners work too hard for this place to fail.\", categoryIndex=1.0, prediction=1.0)\n",
      "Row(text=\"This place is amazing!! I honestly can't believe how much the sushi tastes like actual fish, I was so impressed! I had the Rainbow Roll and absolutely loved it. I also had some of the Kung Pao combo which consisted of shrimp, chicken and beef, and all of them tasted great and very much like the real thing! The lettuce wraps and spring rolls were also delicious. My only suggestions would be to add some more dessert items to the menu- vegan cakes and baked goods would be perfect! And also to serve alcohol, even just beer and wine would be great. Other than that though this place was so on point and I will definitely be frequenting it now on a regular basis.\", categoryIndex=1.0, prediction=1.0)\n",
      "Row(text=\"This place is awesome. Beyond Meat burger with gluten free bun was the best I've had. I would recommend this place to any vegan.  I would also take non-vegans for the Beyond Meat burger.  Keep up the great work!!\", categoryIndex=1.0, prediction=1.0)\n",
      "Row(text='This place is awsome! Our server Tracee was so prompt and helpful, funnie as well. Lol the burgers were so good, we will be back here again.', categoryIndex=1.0, prediction=1.0)\n",
      "Row(text=\"This place is one of the best if not the best places for dumplings in madison. Dumplings are cook perfectly and everything is reasonably priced. All of the noodle and soup options are excellent. I've never had something on the menu I didn't like.\", categoryIndex=1.0, prediction=1.0)\n",
      "Row(text='This was our first time at this eating establishment. Has nice outside seating that has cover and spacious clean seating inside. Has some different Keto friendly specials daily. Many written on the wall and easy to read.  Talked to the staff, very friendly and knowledgeable on there food products choices.\\n      We tried the cob salad with the mustard dressing, just excellent quality and enough for my wife and myself. We had each a lemon cookie and that was very tasty.\\n         If you are doing Keto or low carb you must check this place out! \\nWe will be back', categoryIndex=1.0, prediction=1.0)\n",
      "Row(text='This was the second time my lady and I went to Tuck Shop. The first time we went we had a 5star experience because of the service and the food and after the second experience I felt like writing about it.\\n\\nThe food is unbelievable. We had the roasted garlic, pork belly, tuna tartare, pine steak, and the St Louis ribs. Every dish was excellent and I would have the exact same thing again but when I look at the menu I almost want to just hand it back to the waiter and say bring me what you\\'d like because honestly everything on the menu looks fantastic. \\n\\nWhen the pork belly was served the owner of the restaurant made a comment that she thought the piece that came out was \"too fatty\" for her liking. My lady and I aren\\'t pork belly experts so honestly I wouldn\\'t have even noticed because it was very delicious but because the meal didn\\'t meet the standards of the owner, she sent us home with one, with a very genuine note on the to-go box. And just to be clear, I\\'m not giving them 5stars because I got free extra food... this 5 star rating is because of the service.\\n\\nWe had a negative experience on this date. When our server greeted us he politely said \"We are very short staffed tonight, so I am taking some tables and handling the bar.\" (This was the bar tender). His inexperience waiting tables showed, as he was easily distracted by other tables who were flagging him down instead of focusing on the task at hand and then moving to the next task. An example of this is as he was bringing our drinks to the table he turned his head to address another table and inadvertently dumped 3 or 4 ounces of a gimlet down the back of my lady\\'s dress!!\\n\\nClearly embarrassed and apologetic he ran and got a moist rag. He apologized profusely and removed the cocktail from our bill. We were temporarily rattled and frustrated by this experience but at the end of the day he is just a human who makes mistakes like the rest of it. When mistakes happen I usually judge a man by his reaction to it vs just the fact that a mistake was made. He apologized, he admitted he made a mistake and he didn\\'t blame anyone or anything else for it. Furthermore, the first thing he did was explain to us that waiting tables wasn\\'t his primary responsibility so it\\'s very understandable that a mistake could have happened. It\\'s just an accident and they owned it. The owner apologized as well. \\n\\nMy lady and I will definitely be back and I know that if I ever need to impress work clients with a great meal this restaurant will be at the top of my list along with establishments like Fleming\\'s and Ruth\\'s Chris.', categoryIndex=1.0, prediction=0.0)\n",
      "Row(text='Top class samosas. Sweets at their best. Usual spot for such items. Interestingly, I asked a few other places, if they made it themself. To my taste buds, two of them mentioned that they get their samosa supplies from this place. Chicken samosas anytime!', categoryIndex=1.0, prediction=1.0)\n",
      "Row(text='Tried this place for the first time and loved it!!  Nicely done! We were created immediately and the service was quick and friendly.  We did not have to wait hours just to have brunch.  It was a very pleasant experience', categoryIndex=1.0, prediction=1.0)\n",
      "Row(text=\"Tryst Café was a nice little find for me. I see their pretty Instagram food photos all the time and kept telling myself to check them out. Tryst is family owned and already has a location in Phoenix. This one is in the Gilbert area next to a Sprouts. It's a nice clean spacious restaurant with an open patio and a private dining room for large parties. I love the purple walls. Their concept is delicious healthy American cuisine. The menu includes hearty entrees, sandwiches, salads and breakfast. There are many health-conscious choices for breakfast, lunch and dinner. They also have a coffee and juice bar that includes Kombucha and protein smoothies. The menu changes from time to time and I tried some of their newer items. The Asian Jackfruit bowl is amazing. It blows my mind how good jackfruit as a meat substitute can be. The Quinoa Banana pancakes and the Pecan Crusted French Toast (they have a Strawberry Custard one too) make for a delicious breakfast option. I personally enjoyed the Hemp Seed Tamale (covered with roasted poblano and corn sauce). Their menu also includes a variety of burger options (bison, turkey, veggie), roasted cauliflower, tacos and lettuce wraps. I prefer my drinks strong and their Old Fashioned didn't disappoint. This Tryst Café location is a great addition to the East Valley.\", categoryIndex=1.0, prediction=1.0)\n",
      "Row(text='Very impressed by the service received during an afternoon the staff Chelsea in particular was Awesome. Will definitely be back very soon! Great Experience!', categoryIndex=1.0, prediction=1.0)\n",
      "Row(text=\"Very impressed with this place! It's officially our new favorite restaurant in Pittsburgh.\\n\\nDamien, our server was excellent! Very informative and friendly. The ambience is great! They had a DJ on the Friday night that we were there, and it felt like that place should've been turned into a fancy club after dinner hours! It is a bit loud for conversations, but we didn't mind that!\\n\\nThe tako tacos are a must try - I've never had octopus so tender before, and the combination of flavors was just divine! We also had the Korean and Baja tacos. Both excellent - impressive combinations of flavors. One thing to note - the wagyu on the Korean tacos are deep fried. It was excellent, but I would like to try something grilled in the future as the Baja fish was also deep fried. \\n\\nWe ordered the Korean buns to start, but this did not agree with our tastes. Stick with the tacos and you'll have an amazing dinner.\\n\\nThe cocktails are amazingly crafted, well worth the $10 price for quality. We had the frozen pumpkin margarita and spicy passion fruit margarita, both excellent!!\\n\\nI have already made my next reservation seeing as they're booked a month in advance, but I cannot wait to go back for more tacos!\", categoryIndex=1.0, prediction=1.0)\n",
      "Row(text='Very nice location and nice looking restaurant. Burger and fries were awesome. Also got a pepperoni pizza which was also delicious. Service was good.', categoryIndex=1.0, prediction=1.0)\n",
      "Row(text=\"We are here for spring break. weather hasn't been good. A friend recommended us to try Nora Gray. I got to tell you, It was the hight light of my trip.  Normally, you can't get reservation the same day but we were so lucky as they just reopen from a flood. The resturant is completely renovated. Anyway if you plan to go there, make reservation a head of time.  \\nService was great, Food was amazing. Can't ask for more.\", categoryIndex=1.0, prediction=1.0)\n",
      "Row(text=\"We came into town for the Garth Brooks concert and used Yelp to find this great little gem.  \\n\\nWe had reservations for lunch and had a great server by the name of Ben\\n\\nWe enjoyed everything we ordered.  We started with the Kimchee soup, hot, flavorful and filling and the Duck pork pate (how can you say no any of these items let alone as a combined item).  Brit had the beer blue cheese salad and I inhaled the Duck leg confit.  \\n\\nIf I ever find myself in Pittsburgh, I know where I'll be for at least one of my meals.\", categoryIndex=1.0, prediction=1.0)\n",
      "Row(text='We went here around here 11am today. I waited in the car while my friend went inside and picked up the order. The two employees we dealt with were nice. The manager(supervisor)  and cashier both handled our order. We ordered an upgraded pizza with extra cheese and pepperoni, 2 liter pepsi, and dipping sauce. The pizza was hot and tasted fresh. Paying the $1 for the extra cheese really makes the pizza taste extra delicious. I highly recommend this location. This review is ONLY for this location.', categoryIndex=1.0, prediction=0.0)\n",
      "Row(text=\"Went for a friend's birthday celebration.  Excellent food and drinks.  Hats off to the bartender who made an excellent pisco sour.  Excellent staff - Taylor - who made great suggestions for pairings and was very charming and accommodating especially when some of our guests were late.\", categoryIndex=1.0, prediction=1.0)\n",
      "Row(text='When it comes to Mexican food I food I do not eat it often. Therefore I am really picky. Only when it comes to Mexican food.. My husband and I never heard of Abuela\\'s before, we were just hungry and saw this on our way home. We stopped in and it smelled so good inside. Like our moms kitchen. We order our daughter a Quesadilla de Lengua and I got a carnitas burrito and my husband got a burrito of barbacoa. \\nLet me tell you that my daughters quesadilla was so bomb. I wished that she didn\\'t finish it so I can finish for her. It was amazing. It came out hot and cheesy. The cheese was so good. \\nMy burrito was also yummy. The size was perfect and it didn\\'t fall apart. \\nWe went back and I got a Gordita de Chicharron and language taco. I loved the Gordita. You can tell they make everything from scratch.  The Lengua was tender and juicy. My husband and I are always pleased and are surprised that we don\\'t go there as often. \\n\\nI really like the fact I always see women working the kitchen in a lot of Mexican restaurants it\\'s always men. I feel like it puts a \"motherly touch\" in our food ^.^', categoryIndex=1.0, prediction=1.0)\n",
      "Row(text=\"Where to begin.. I hardly ever write reviews but this place is too good. Staff is very friendly and easy going, even to our black lab, dogs can sit on patio. There is a front and back patio, both of which get decent sunlight. The wings were juicy and meaty with crispy skin and a delectable sauce. My favorite thing about this place is their seasonal brew, st nobles stout. If you consider yourself a beer snob (or don't, everyone should drink this) then please PLEASE treat yourself to one of these unbelievably smooth mint chocolate stouts. I really can't think of anything I'd rather drink, at any time of year. Unfortunately it's seasonal for st pattys. I would still recommend this place year round for the atmosphere, service, food, and beer selection. I'll be back\", categoryIndex=1.0, prediction=1.0)\n",
      "Row(text='Wonderful Service! Wonderful Breakfast!\\nEverything Waffles! The fruit salad was amazing! Must go on your way to the park!', categoryIndex=1.0, prediction=1.0)\n",
      "Row(text=\"Wonderful... just wonderful.  My wife and I are visiting Charlotte, and Amélie's was just down the street from our hotel.  I had the build your own breakfast sandwich on a croissant, my wife had a croissant and the yogurt and berries.  The food unbelievable--without question the best, most delicious croissants I've had in my entire life!  I don't know when or if we'll ever get back to Charlotte, but if we do, we won't miss the opportunity to visit Amélie's again.\", categoryIndex=1.0, prediction=1.0)\n",
      "Row(text=\"Yeah...where do I start! This place is a must. 2 aspects: ambience and food. The restaurant is so adorable, very retro, very pleasing to the eye. Let's talk about the best part: the food!! So delicious! I had their foie gras egg Benedict and wow...blew my mind. Presentation was spectacular, served on a wooden tray. I judge restaurants, specifically brunch places on their poached eggs and this one did not disappoint one bit. We also indulge a bit and had their sugar crêpe, it was the cutest and sweetest thing we had in a long time. Few things to keep in mind, the price is a bit up there, for good reasons, it's great to get a group of friends out there and/or maybe on a splurge day (trust me, it's worth it). They have a patio, so come ready to enjoy the sun and if not, you still have indoors, also, it is located off the Beaudry metro, maybe 4 mins to get there?! With all that being said, please please please find your way there and enjoy a nice brunch with family, friends and/or yourself :)\", categoryIndex=1.0, prediction=1.0)\n",
      "Row(text='you ever had your taste buds slap you in the face and ask you. \"I am not sure what you are feeding me? but don\\'t you stop!\"\\n\\nFuzzy\\'s is my all time favorite taco joint, everything from the margaritas to the SOFT SHELL tacos!, don\\'t do the hard shells. the taco sauce is so good, you could drink it. \\n\\nIf i could eat here every day i absolutely would, worth it! eat here!', categoryIndex=1.0, prediction=1.0)\n",
      "Row(text='Big disappointment!  We have been to Belgium and know Belgium Waffles and these are close, but not what we remembered.\\nEating out of a plastic tray with plastic knives and forks and drinking from \"to go\" cup is not what we expected.  \\nSorry, but we do not expect to return.  They missed the mark by a mile.', categoryIndex=0.0, prediction=1.0)\n",
      "Row(text=\"The manager on duty, Rudy, should work at McDonald's vs. Mastro's. He is unprofessional. Not only was he rude to our party of 6 ladies who arrived in a vintage Rolls-Royce stretch limo to have a quick cocktail for our friend's 40th bday but he was also rude to the staff that works for him. I don't think Mastro's wants this guy associated with their brand. Investigation, reprimanding and/or training is warranted!\", categoryIndex=0.0, prediction=0.0)\n",
      "Row(text=\"Tried out the Bevvy Uptown for Sunday Brunch with a group of 8 people.\\nThe staff was friendly and helpful.\\nThe food was not bad (I would liked more Vegan options).\\nSad to know we can't substitute or order off the regular menu. (Anyone with food allergies needs to make a note).\\n\\nHowever, all of that was ruined by the LOUD AND NON-STOP music SUNDAY at NOON.  It was worse than being in the front of the speakers at a concert.  I could not hear the person next to me.  We asked the server if it could be turned down, but since it was live music, we were stuck with the blaring music.  It did not matter where you sat.  It was too loud everywhere.\\nThis is something you would expect on a Friday or Saturday.  NOT on a leisurely family Sunday brunch.\\n\\nCoffee would have been nice.  I guess that is not part of brunch anymore.\", categoryIndex=0.0, prediction=0.0)\n",
      "Row(text=\"Will once again the mgrs (Jay) @ the Chili's location on 75th Ave has no clue along with the host on how to help customers !!! We get there and the guy (1st host) tells me about 15min he guess (his exact words), we have problems clearing off table ?  OK we can wait , my party of 5 set down to wait & as I look around,  he was right . I see about 5 tables  (1 large table) just waiting to get cleaned off so I watch how they will handle it ?? Will after 20 min all works and both host walks by them doing nothing,  25 min in to it I asked to talk to Mgr on duty ( Jay ) and the host ( the girl who always does nothing when we go there) calls him and tells me he will be right up ?? 5min go's by and no Mgr & finely the lgr table gets pull apart making 1 table for 4 and 1 for 6 & cleans off the smaller table and then  comes up at witch a party of 3 walks in and they seat them ( remember my 5 & other party of 4 are still waiting ) get a little up set now. Will few min later they clean off the big table they pulled apart and seats us ( still no mgr) we get drinks, appatizer, and dinner. The server at first started off slow but he took care of us and did a great job ($40 tip) about 2 & half hrs go's by (still no mgr but I do see him walking around) i pay bill ( $210 plus tip) and I stop at the host station  (no one to be found ) I ask a  waitress for the mgr (5min go's by) & guess who shows up finally (Jay) I asked why he never came over and gives me a line of crap he didn't know and stands there like he don't care so I leave. Never once did he care .. This kind of management will kill the location business fast ( this location been open now about 6mo ) I eat at all different  Chili's location on average 15 times a month if not more and by far this location management suck !!! So sad and time to wake up and hire a busboy or 2 to fix it OR tell your host to stop standing around joking with each other and clean the table off the second they open up !!! You will be amazed how many more customers you can serve and make more money! !!!!! From a loyal customer to Chili's  (not this location)\", categoryIndex=0.0, prediction=0.0)\n",
      "Row(text=\"This is my first and last time coming to this location. I came for a drink and a corn dog. It took them over 15 minutes to bring my order. An older woman brought out my order. She seemed irritated before I even rolled my window down. I asked for ketchup and mustard. She told me all I'm going to get is ketchup because they just had corn dog day and they are all out of mustard. She handed me two packets of ketchup and asked if that was enough. Well I guess so since she only came out to my car with two packets. She provided very poor customer service. I will not be returning to this location.\", categoryIndex=0.0, prediction=0.0)\n",
      "Row(text=\"This is one of the worst dining experiences I have had. I have eaten here before and it was good. I decided to bring someone with me and told them this was a place to dine . Wow, was I surprised with the food and more to the point the extremely poor and rude service I received. \\n\\nWe ordered the tandoori chicken dinner which after 15 minutes was ready.  I bit into it and it was dry as a bone and extremely salty.  I told the lady at the counter about my food and she reluctantly brought it to the kitchen.  She and I had a long discussion about what was dry chicken and what wasn't.  I asked her for a new batch of chicken and conveniently they were now out of the whole chicken tandoori!  She said she could give us chicken breast, which I have had before. I agreed and waited. While I was waiting she informed me that the chef said the cook on the chicken was fine.  I told her that he should eat then.  When the new meal came the chicken pieces were tiny as if they had took a regular piece and cut it in half to make it look like there was more chicken.  I bit into it and again it was dry and if it was worse than the first batch.  \\n\\nAt this point I had had enough and just ate the food.  \\n\\nAfter I finished, I told the lady and the cook that I had been before and it was good and this time it was horrible.  They did not offer me a free desert or drink or a refund. They said they wasted 20.00 worth of chicken because I didn't order correctly.  I said are you kidding me. They said it's not their restaurant and then I told them the owner should hire a more professional staff!  DONT WASTE YOUR MONEY!!\", categoryIndex=0.0, prediction=0.0)\n",
      "Row(text='Never complain at \"I love Sushi\"\\n\\nI have been loyal customer of I Love Sushi for many years, spent about $1800 this year to date. I typically place a take-out order. The employees recognize my voice & order when I call-in. I have a couple of favorites that I always order. One of which is their Lisa Hand Roll; which is made of spicy tuna, crab, avocado and shrimp tempura. I ordered (6) today along with a couple of other rolls.\\n\\nFull disclosure. several years back, I had an issue twice with the Lisa Hand Rolls not being very full, they were half the size with very little tuna or crab in them. So they have been showing the rolls to me when I pick-up. I can only tell if they look to be normal size, I can\\'t see what is in them. I haven\\'t had an issue for the past few years until yesterday, they looked great, nice size, however...I called to let them know the Lisa hand rolls needed to be re-made, they were all filler, hardly any tuna and the tuna that was in them was stringy brown (disgusting) not pink. They told me that I had to return them first before they would remake them. I took them back and was interrogated by (3) different people, treated like a criminal. After the (3) of them conversed for a few minutes, they said they would remake them. When they brought them out to me, I was given a message from the chef, that he will never remake anything for me again, I was stunned.  Well when they showed me the remakes, they looked like something I\\'ve never seen before. They were very small with the reddest tuna I\\'ve ever seen, no crab, no filler, no avocado, no shrimp tempura, they were actually awful looking. Then what appeared to be a manager told me not to come back, they will NOT serve me ever again. To say the least, I was stunned by the treatment I received.', categoryIndex=0.0, prediction=0.0)\n",
      "Row(text=\"Still sitting here waiting for the one drink that I ordered 20 min ago, the time is now 2:30 pm May 25 with approximately 6 people in the restaurant and I'm being ignored. Lol this bartender with the mo-hawk clearly doesn't want to be here. It shows in his presence and the service, smh such high hopes for this place. Can't imagine how it is in here if it gets busy.\", categoryIndex=0.0, prediction=0.0)\n",
      "Row(text='What horrible management. We asked politely to turn the tv to the coyotes hockey game and were constantly told to wait. When asked again, the manager, Peter, became rude and immediately kicked us out for the request. Treated with total disrespect and will never recommend anyone to go there to be treated that way', categoryIndex=0.0, prediction=0.0)\n",
      "Row(text='Went to this location at 4:45pm on a Wednesday afternoon and there didn\\'t seem to be any employees there. There was a sign on the speaker that said \"cash only\" and there was a sign kind of blocking the drive through lane.  No one spoke on the speaker, so we pulled ahead and it was dark inside and no one came to the window.  Very odd to be closed in the middle of the day with no signage indicating that they were closed.  I see that others have already mentioned this issue, but it bears repeating.  We even called the number on the website and the number was disconnected.  Something is very wrong with this Rallys.', categoryIndex=0.0, prediction=0.0)\n",
      "Row(text=\"Disgusting!!! Worst place ever! It was dirty, loud, obnoxious and just plain gross. My tortilla soup was not even real tortilla soup it came with cabbage, celery and beef broth which is so weird. The fajitas came with green chilies instead of green peppers...maybe they ran out or something but that was bizarre. The lettuce was brown, tomatoes were old, my avocado and guacamole were brown too. So so so terrible. I can't believe we paid to eat there and I really don't know why we stayed. As soon as I walked in and saw the cheesy decor and the balloon man pestering patrons for tips, we should have ran for the door! \\n\\nRisa if this is an Arizona standard then I'm never eating Mexican in AZ again :)\", categoryIndex=0.0, prediction=0.0)\n",
      "Row(text=\"I went here on a whim to try something new. I saw all the high reviews and thought what the hell why not. I love Greek food and shawarma. I was excited to find a new place. I ended up getting the shawarma pita and the bok bok panini with a side of falafels. So basically we tried a lot. I was a bit confused after eating it all. I was expecting great things from everyone talking about it but in fact it was super basic and not much flavor profile. Chicken was ok with tomatoes and sauce that's it. Pita was just meat tomatoes and onions and sauce. You might say that's fine but there was no flavor to it, and no spices at all. I agree that there are many more options around town and even on the same road as this place to get good Mediterranean food. Also the falafel was super dry and came plain with no sauce. I think most of these reviews are friends of the owners rather then true customers. Overall service was great and portion was ok. Those are the only reasons I give it 2 stars.\", categoryIndex=0.0, prediction=1.0)\n",
      "Row(text=\"Let me start off with the positive things about this place. The place is clean, it's close to home and staff is decent. The sandwich I had was very flavorful. \\n\\nNow the not so great things about this place. Holy crap the price for a tiny ass sandwich is outrageous! Then they have the nerve to ask if you want to round up to the nearest dollar for a donation. I'm all for supporting the cause but dang how about taking it out of that huge chunk of change you are charging me for JUST a sandwich. For the same price as I'd pay here for a combo I could go eat at Olive Garden or even make a meal at home. Seriously this place is highway robbery. Like I said the sandwiches are good but not at that price. I'm so sad I probably won't be eating here very often due to price.\", categoryIndex=0.0, prediction=0.0)\n",
      "Row(text=\"Yuck.  The food here is gross.  The $4.99 price for the dishes is a gimmick.  The portions are small.  For about $2 more, you can get a full size dish at other places.\\n\\nWhat is that weird smell in the restaurant?  It's certainly not food.\\n\\nWe ordered the beef chow fun which tasted like a greasy blob of paste.  The won ton noodles tasted bland and the meat inside the won-ton tasted weird.\\n\\nThe rice porridge (con-gee) with chicken tasted funny.  How do you mess up on that dish?  The chicken had no flavor.\\n\\nMy brother had the soft udon noodles and when he bit into the noodles, it had a funny crackle.  Like a delicate shell being crunched.  Do you catch my drift?  He was afraid to spit out what he was eating and just gulped it.\\n\\nThe food here is not authentic.  It is below average and tastes like garbage.  There are much better places to eat.\", categoryIndex=0.0, prediction=1.0)\n",
      "Row(text='Disappointed in the sweet and sour pork it was hard as a rock! Maybe it sat out too long.', categoryIndex=0.0, prediction=0.0)\n",
      "Row(text=\"Sun win use to be a good Chinese take-out but not anymore. They changed owner and the food tast old. I also got grey beef.\\n\\nThe owner offered a credit but I don't want that. I'll be lucky if don't get food poisoning.\", categoryIndex=0.0, prediction=0.0)\n",
      "Row(text=\"This place is always dead. The restaurant is  dirty. The employees are rude. Go somewhere else. This place doesn't want your business.\", categoryIndex=0.0, prediction=0.0)\n",
      "Row(text='Bad experience. My boyfriend and I spent $30+ on two different meals that made us both sick . Never going again!', categoryIndex=0.0, prediction=0.0)\n",
      "Row(text='I am so glad this location closed. Worst burger King I ever went to. Always ALWAYS got our order wrong, even the 2nd time.  Managers were always douches.', categoryIndex=0.0, prediction=0.0)\n",
      "Row(text=\"Is 1 star the lowest rating? ICK! Food was gross! Got a chicken quesadilla and it was way too salty, got asked if I want cheese on a quesadilla ..?, and got charged the wrong price! Def NOT a place I'll be eating at again!\", categoryIndex=0.0, prediction=0.0)\n",
      "Row(text='They don\\'t operate by the posted store hours and are always \"closed\" when I come by.\\n\\nAll I want is a god damn mcchicken.', categoryIndex=0.0, prediction=0.0)\n",
      "Row(text='WATCH OUT THEY UPCHARGE YOU FOR ALCOHILIC DRINKS!!\\nWalked in for happy hour. Receptionist explains twice that if we sit at the bar itself we can get margaritas for $1.99. Okay cool. We sit down. One of us orders 4 happy hour margarita specials and jokes that it\\'s only 99 cents right? Bartender puts 4 big margarita glasses in front of us. I say these are the $1.99 margaritas? She says we ordered the $11.99 margaritas with patron. Umm no we didn\\'t. She says well she already made them and she has to charge us for them. \"So you still want the $1.99 margaritas?\\', she asks. I\\'m thinking really you\\'re gonna give it to us now? She says her manager won\\'t let her take off the drinks. News flash she didn\\'t talk to her manager.  Then she comes back and asks what we would like to order for dinner. We told her we will be eating somewhere else. Bye Felicia!', categoryIndex=0.0, prediction=0.0)\n",
      "Row(text=\"Good pasta. Terrible service. We got seated at 11:50am. The waiter didn't come take order for more than 5 min. When asked one waiter to get our order, he brushed me off telling me to wait. I waited a few min but nobody took order, and i could not get a hold of a waiter.  After a few more min, I had to shout to finally get a waiter to take a order from me and my family. As we ordered we aske that the food arrive asap and don't want it to be held off for other foods that are not ready. \\n\\nThen it took 10 min for the bread to arrive, but they gave us butter with it. I like it with vinegar and oil, so when i asked for it they gave me the vinegar and oil but no plates to poor them on. What kind of an italian place give you butter with bread, then don't give you plates when you ask for vinegar and oil to eat with bread?\\n\\nRemeber how I asked for the food to come as they get ready? Well it took them 30min to get us food and the reason is because they were holding the food to serve them together!\\n\\nThe food was alright. A bit salty though so we drank a lot of water. Even after 3 of our glasses were empty they did not refill the water for more than 10min until i had to call for them. \\n\\nLastly, i was super pissed and did not want to leave any tip. But guess what? They charged a gruitity charge for our group of six. \\n\\nFor those who might be thinking that the restaurant may have been busy... There were four tables besides us and they were all tables of two or three and there were three waiters.\", categoryIndex=0.0, prediction=0.0)\n",
      "Row(text='Told me there was a 20 minute wait while the restaurant was 60% empty at 7:45 PM on a Wednesday .   I have given this place many chances over the years and they always manage to disappoint.   Prepare for medicore service, food and disappointment.', categoryIndex=0.0, prediction=1.0)\n",
      "Row(text=\"Very fun decor but I won't be going back because the food is not good and quite expensive considering the quality and quantity.\", categoryIndex=0.0, prediction=0.0)\n",
      "Row(text='Why should an individual who cannot sit comfortably at a bar seat or a high top not be able to enjoy Happy Hour ...80$ later???  Cuisine excellent as usual...however the great vibe was instantly killed at 4:30 PM when we asked the hostess to seat us at a typical  table.  My friend who is 68 and overweight/obese/ or whatever term you choose to describe was strictly informed  high tops for HH.  We respectfully abided by SumoMaya\\'s discrimination rules.  \\nOnce seated at the basic table,  I visited the \"empathetic\"hostess and asked for the HH menu and to speak to the manager. She reinstated that it was not allowed.  I asked, what would you do if she was in a wheel chair and she chimed back, that would be different!   The  manager eagerly greeted our table and bluntly asked, \" What is the problem?\"  As discretely as possible I politely asked, Could you please honor HH at our typical table?   He elaborated  he would make an exception only once. No worries we will not be back.', categoryIndex=0.0, prediction=1.0)\n",
      "Row(text='Not good food at all for the money.  The French onion soup was muck and believe it or not it was sickning sweet.  That is my favorite soup but not there.  \\n\\nThe crab cake, I made better at home.  Did not have a fresh made taste.  For that kind of money I want better. Will not go again', categoryIndex=0.0, prediction=1.0)\n",
      "Row(text=\"We have given this restaurant several chances but this will be the last time we eat here.  We come Monday nights and sit in the bar area for happy hour.  There has never been a time that it was adequately staffed.  Often times it takes 20 minutes for the server to take your drink order.  We have learned to make sure you have your food order ready so you dont have to wait until your drinks come 15 minutes later.  Also it would be best to ask for your check as soon as your food is brought to you or you will have to wait another 20 minutes for them to check on you.  I hope you only want 1 drink because even 20 minutes after you slurp your last sip of margarita, they still haven't come back to see if you need another drink.  Here we sit 20 minutes after asking for the check and she still hasn't come back to get our card.  If you like to leisurely eat 1 appetizer and drink 2 margarits in 2 hours time this is the place for you.  Oh yeah...the food is mediocre at best.\", categoryIndex=0.0, prediction=0.0)\n",
      "Row(text=\"First off, the one star is a reflection upon food quality and taste. The service was okay and the server was nice.\\n\\nThe food presentation was good (please see pictures). The food looked appetizing but failed to have any taste.\\n\\nWe had the players that are recommended for first timers as we wanted to sample the variety of foods they had. It was bland and and lacked true flavoring of Indian cuisine. I was really disappointed with their lassi despite of ordering a sweet lassi it was salty and the herbs overpowered the drink.\\n\\nThe food was overpriced. I don't think I would come back unless they change the cook and make proper lassi. \\n\\nBottom line: A tourist attraction with iron elephants in the front to trick you into going in. Not worth the price.\", categoryIndex=0.0, prediction=0.0)\n",
      "Row(text=\"Stopped by this place with my boyfriend for a pit stop. Didn't know what a waste of money it was going to be. Wouldn't recommend it. Felt awful after eating here. Find something else around the area. Not worth it.\", categoryIndex=0.0, prediction=0.0)\n",
      "Row(text='What breakfast? They are closed. Why are they still on this app? Wasted money on parking.', categoryIndex=0.0, prediction=0.0)\n",
      "Row(text='Absolutely shocking service !!  Sat there for 20 minutes before getting served. Got one menu between 3 of us, a family came in next to us and where taken care of straight away. They had their starters and were on their mains before we got our meals. The food was excellent, but they were certainly off their game !! Worst server ever!', categoryIndex=0.0, prediction=1.0)\n",
      "Row(text='I had a pizza and jalapeño poppers delivered; the pizza was cold when it got there (1.5 hour wait) and the jalapeños tasted like rubber.', categoryIndex=0.0, prediction=0.0)\n",
      "Row(text='My friend had told me Dennys possibly sold french dips (sandwiches) but i wasn\\'t sure so i called. Apparently i ruined the guys day as all i asked is if they sold french dips, and he rudely responded \"no. no we don\\'t\" implying that i\\'m stupid. was just making sure, sorry to inconvenience you so much. Will no longer be going to this location thanks to his customer service. 1-11-19', categoryIndex=0.0, prediction=0.0)\n",
      "Row(text=\"This plate of chicken cost me $17, when I asked him if I can have more chicken they said head office doesn't allow more than 3 ounces. What a rip off.\", categoryIndex=0.0, prediction=0.0)\n",
      "Row(text='We were there for the Prince Tribute.  AGAIN, the music was great.\\nBUT we purchased seats months earlier - then the standing room only people filled the dance floor and we had to stand to see the group.\\nWhy pay for tickets when you can get SRO and get in front of everyone?\\nSo several of us had to stand a very high/drunk young girl started an issue because the floor was crowded and pushed 2 people in our group.\\nNOW -  this is the second time we have had an issue with the \"manager king\" of the club.    When we got the manager they were going to escort the girl out and then decided we both should go!!!! REALLY....WTF. The guard said one of us swore - and it was actually a girl in that girls group that did that.  OMG - BTW we are all over 60 (I hate saying that) so trust me we were not going try to make a scene.\\nThe first time this awful excuse for a manager showed his customer service was when we were there for the Beatles Brunch.  Again, bought tickets 2 months ahead and had no table when we got there.  Had to sit our party of 10 around the room on stools.  ARE YOU KIDDING ME.. when we complained he said - rudely - if you came earlier we could have done something?  WHAT???  And the Brunch food is truly awful BTW.\\nAfter incident number 2 - we spoke to who we were told was an owner and told him both scenarios.  He took us downstairs and bought us all a drink and apologized.....but we missed the second act of show I was enjoying because of a \"big fish, little pond syndrome\" non-manager.  As an FYI my family was in the restaurant business and would never tolerate an employee with no customer service skills this long.\\nHe also made a waitress eat a check for a patron at a Sunday talk because their check was late - WHAT - get enough staff then.  And here all of a sudden you care about the customer..............(head shake)\\nWe have been to the Music Box no less than 15 times and I am guessing we will not be back......and BTW Music Box owner - the older generation are the spenders....', categoryIndex=0.0, prediction=0.0)\n",
      "Row(text='Yelp needs to offer zero stars. Food took 1 hour and 15 minutes to come out. Our waitress was very apologetic. Everyone around was complaining to her about no food coming out. No manager around anywhere. Tables were dirty. Food came out cold.', categoryIndex=0.0, prediction=0.0)\n",
      "Row(text='-- It not have a star at all---\\n\\nMy husband and I have visited in Jan. 2012. It was a cold Friday night and the place looked nice enough from outside to merit a visit. We should have turned away and left once the \"sitting hostess\" was rude to us, but we\\'ve decided to press on in hopes to have a better experience inside. Why? you ask - well, we wanted to give the place the benefit of the doubt. Our mistake - we should have left. \\n\\nWe are both big sushi lovers, but the price of $27.99 for rather small selection of sushi supplemented by some Thai items, in a place that we\\'ve never visited before has turned us off. \\n\\nSo we\\'ve decided to try their a-la-carte Thai dishes instead. The Tom Yom soup was Ok. The spring rolls that are supposed to be served hot were cold as stones and just as hard to chew. But the worse was yet to come: the main course. I\\'ve ordered the Panang Beef (which is very good in places like the Salad King) and asked the waiter if the sauce for the dish was sweet. I was assured that its not. My husband has ordered the Basil Beef. \\n\\nWhat I\\'ve received was disgusting. Pieces of unidentifiable meat were literally floating in a dish full with thick, smelly sauce, so sweet that I had to drink two cups of water just to flush down the sugars it contained. There was nothing else in the dish - no rice, vegetables, nothing else. Just the floating pieces in a brown liquid. My husband\\'s dish was no better: charred beef with no notice of basil. \\n\\nWhen I finally managed to flag down the waiter who was loudly flirting with the table next to us, and asked for an explanation, he could offer non. What I should have done was request a \"chef\" or whoever has prepared that excrement in a bowl to come forth and demonstrate eating it. Shame on them. \\n\\nNeedless to say, we won\\'t be returning to this place and will ensure that our friends and family avoid it like a plague.', categoryIndex=0.0, prediction=0.0)\n",
      "Row(text=\"Don't come here if you have celiac disease. The waitress thought gluten was lactose. They know absolutely nothing about gluten. You will feel very uncomfortable eating in this place and you WILL get sick. They will bring you gluten even if they tell you there isn't.\\nAvoid this place if you have allergies or celiac disease\", categoryIndex=0.0, prediction=0.0)\n",
      "Row(text=\"I strongly suspect that most Yelp reviews on The Steakhouse are not legitimate.  This is probably the worst steakhouse in Las Vegas and one of the worst steakhouses I have visited in a very long time.  First, the interior is drab and moldy and probably hasn't been updated since the Brat Pack were still active in Vegas.  (However, it's probably no more nasty than the rest of Circus Circus which you are forced to walk through to get to this place).  Second, the service is slow and, when they do show up at your table, often rude.  Third, the steaks are third rate at best.  If you are wondering what select grade meat tastes like go here.  Their ribeyes range from bland to so full of hard gristle that they are practically inedible.  I don't even want to get into their disgusting side dishes and salads. Finally, to top off this great experience you will pay top dollar for a steak that Outback would be too ashamed to serve.  Do yourself a favor and go to a real steakhouse like del Friscos, Ruth Chris, Delmonicos, etc.  It amazes me that this place is still in business.\", categoryIndex=0.0, prediction=0.0)\n",
      "Row(text=\"OMG. Had the worst experience ever last night.  My son wanted fries, and he loves their season fries, so I get to the drive through and the lady saids hold on please.  I waited about 5 minutes until I got to order.  So I get around the corner and there is this truck at the drive through.  So I think, this is why It took so for her to get my order.  I told myself he better have a really big order.  I waited another 5 minutes.  He must have been pissed because he made them give him napkins, cups, plates, utensils, the whole works. His order really didn't seem that big. a box of chicken, some biscuits maybe.  Finally I get to the window, and paid for my food, and nobody apologized for me having to wait almost 10minutes to get my food, and now I feeling some kind of way.  As I am waiting for my food, I look into the window and what I saw made me want to ask for my money back and never go there again.  OMG, the kitchen floor was so dirty, the counters looked trashed, the food container lids were all over the place.  It looked so nasty, if a inspector came at that minute, they would have shut it down.  When I got home I proceeded to eat my chicken, my 1st piece of chicken was okay.  My second piece of chicken tasted very funny, almost a spoiled taste.  I just threw the whole meal away.  No more bojangles for me.\", categoryIndex=0.0, prediction=0.0)\n",
      "Row(text='What\\'s that saying? \"Never brunch without a plan?\" Okay, there\\'s no such saying... But there should be--to prevent people like me from just going into random places for brunch on the weekends.\\n\\nSo we walked around one weekend and just figured there are plenty of places to grab breakfast around town. We\\'ll just eat when we get hungry. Well, we got hungry around Yonge and Richmond, and we thought \"hey, this place usually always has people in it\" and \"we kinda still want breakfast food\" and \"Le Petit Déjeuner is far and there will inevitably be a long wait\" so let\\'s try this place: Sunset Grille.\\n\\nThere was a wait, but it wasn\\'t too long. And it was busy, but not too the point that the servers weren\\'t going still and checking on the customers. \\n\\nWhen we sat down. We were given the menu, shortly thereafter the server can\\'t back and took our order. Then we waited for our food.\\n\\nNext to us was an extended  family with some kids. They weren\\'t overly loud, but we could certainly hear them and noticed them... And it looked like one of the kids wasn\\'t feeling so good. And strangely enough, instead of taking the kid to the washroom, they urged him to throw up into the plate at the table. All this while some of the servers were walking by, yet no one stopped to ask if they could do anything to help or suggest the family take the kid to the washroom, etc.\\n\\nIt gets worse. When the family leaves, the next set of people are walked to the table to sit... While the throw up was still in the plate that was still on the table, in clear sight. \\n\\nAnd then our food came. We were horrified, but tried to move on. Dug into our food. Both of us got eggs of some sort or another. Neither of us were able to eat more than half of our plates. It tasted like everything was soaked in butter and then cooked and then soaked in more butter again. \\n\\nWhen we walked out the door, our immediate reaction was, there is a Tim Hortons next door?? Why didn\\'t we just walk a few more steps and see that? Given a redo, we\\'d go to Tim Hortons... Or Dineen on the next block for coffee and croissant.', categoryIndex=0.0, prediction=0.0)\n",
      "Row(text=\"Worst night stay ever, the rooms were awful, the shower didn't work and to top it off, my car was hit in the parking lot. Absolutely the worst\", categoryIndex=0.0, prediction=1.0)\n",
      "Row(text=\"bad service, bad drinks. didn't even bother with the food.\", categoryIndex=0.0, prediction=1.0)\n",
      "Row(text='After trying to place an order online for delivery the website deleted the order. (Over $50). My boyfriend was understandably frustrated so I said forget it, I can just call. \\nA woman grunted when answering the phone. I thought I had the wrong number. Not even a hello. I asked if I could place an order for delivery. She grunted yes then yelled things at someone. I said we\\'d like the fried calamari. She said \"we\\'re out.\" I said okay how about the grilled calamari? She snapped again, \"we\\'re out!\" No apology. No explanation as to why a Greek restaurant would be out of it. No offer of something else. Nothing. I found her attitude terrible. I said thanks and hung up the phone. \\nI live across the street and have no desire to order there or go into the restaurant. I\\'ll be telling my neighbours of this experience as well. \\nWe ordered Swiss Chalet and were treated much nicer and half the price.', categoryIndex=0.0, prediction=0.0)\n",
      "Row(text=\"Definitely NOT my favorite. If I could avoid this club and never come back, I totally would but they have a bunch of great resident DJ's, that it's so hard not to. \\n\\nVenue: three floors: main floor is the main stage where all the resident DJ's play and a small dancefloor and two bars to buy drinks, the floor above that is ALL TABLES, the floor below the main floor is the hip-hop room with more tables and a small dance floor and one bar. Oh yah, and you have to use the stairs to go between all these floors because you can't use the elevators (girls, you've been warned)\\n\\nDrinks: expensive, of course. I mean it's Vegas, no surprise here. \\n\\nWhy I don't like Hakkasan: \\n- NO DANCE ROOM. The dance floor is TINY! The first time I was there, (and keep in mind I was sober) I almost fainted! It was so hot and crowded and stuffy that I became light headed. Eventually I had to leave the club to get some air, but oh yah, NO IN AND OUT'S. \\n\\n- SUPER CROWDED: I mean yah, all clubs are gonna be crowded in vegas. But like I said above, THERE'S NO DANCE ROOM BECAUSE THE DANCEFLOOR IS SO SMALL!!! Seriously. Aren't you supposed to dance at a club?? HOW ARE YOU SUPPOSED TO DO THAT WHEN THE DANCE FLOOR IS SO SMALL???\\n\\n- SERVICE: people here are just not nice. Bouncers are unreasonble and mean. \\n\\nHonestly, my review is not biased whatsoever. I've given this club a second chance and a third chance. But my opinion still stands, and not only mine. Almost everyone I've talked to doesn't like Hakkasan. Definitely my least favorite club on the strip.\", categoryIndex=0.0, prediction=0.0)\n",
      "Row(text='I had such high, excited hoped for El Cantrin. I saw pictures and thought there\\'s no way this won\\'t be my summer jam. Can\\'t even tell you how broken-hearted/hungry I was after I went. There were definitely positives, but my experience just drowned them all out.\\n\\nCame for lunch at noon yesterday and it all just started sour. Got to the door and the screwface hostess asked how many we were then asked us to wait in line. From the outside we could see the patio and it was maybe 40% full. This isn\\'t King St at midnight; wtf am I doing waiting in line when there are tables? Got through the \"line\" and then she asked again how many people. Seated 2 minutes later. The girl who seated us was even less hospitable than the door girl.\\n\\nSat down and it took about 15-20 mins before anyone came to take our drink order. Again, the place wasn\\'t busy and there was staff everywhere. I ordered the watermelon fire to drink and thankfully it came out quickly and I loved it. Their brunch menu wasn\\'t all that thrilling so I was having a hard time with it. Got the guacamole and nuts for an app and our waitress said everything on the second page was a good portion for one person, so I ordered the mexican corn cakes and my friend ordered the eggs. Guac came out almost immediately by an adorable, personable guy mushing up the avocado in front of us and making it a great app to start with. See? I\\'m really not just here to complain :)\\n\\nMy friend\\'s eggs came almost right away. They were lukewarm and you know when bean dip has been sitting and starts to harden a bit on the outside? That\\'s how his plate came. My food didn\\'t come with his. Isn\\'t it restaurant 101 to serve meals together, especially when it\\'s just two people? I didn\\'t want his food to get even cooler so I told him to start, thinking mine would be out any minute. He finished his meal before my food came out 45 minutes after ordering. My food was seriously the tiiiiiiniest portion, so the claim of \"good for one person\" was a joke. The chorizo was old, served on stale corn cakes. I took one bite and was through with the place. \\n\\nWe were on a time constraint so when the waitress asked if she could bring me something else, we just asked for the bill. It was a little expensive but I was expecting that for the venue, because it really is gorgeous. Settling the bill took over ten minutes which annoyed me because I just told you I\\'m on a time crunch and you know I had a shitty meal so why aren\\'t you being more accommodating? Oh, and the bill came to 56, my friend left 70, and the waitress brought back 15 even, so we had no choice but to leave her 10 without seriously stiffing her. So tactless right? \\n\\nIt all just felt so Moxie\\'s. Like I was being served by university students trying to make a buck but took no pride in the place. I don\\'t feel like Toronto restaurants understand how CRUCIAL our experience is and how it can all be saved by hiring the right people. Someone mentioned in another review that Toronto\\'s a worldly place and we go everywhere and dine at the best places. Don\\'t spend all this money and make all this effort to make your place beautiful, only to hire staff  who treat us like we don\\'t know any better. \\n\\nKeep the guacamole guy.', categoryIndex=0.0, prediction=0.0)\n",
      "Row(text=\"They offer generic condiments, not the real stuff: the hoisin sauce is liquidy and not thick. They don't have Sriracha--you cannot have pho with generic sriracha hot sauce. Friend found egg shells in his pho soup. Horrible tea (tra da). Overpriced.\", categoryIndex=0.0, prediction=1.0)\n",
      "Row(text=\"If I could give zero stars I would . I ordered an customized Carrot cake for my mother birthday. Very simple all the cake had to say was Happy birthday Mom!  With dogs decorations meaning where their was open space on the cake surface. I later received a call from a lady saying she couldn't do the dog decorations on the cake . Simple she couldn't do it and it would cost an extra $10 to add an graphic design .  If you can't do it then that's totally fine but I'm more disappointed in the customer service she came out very rude and unresponsive on the phone (long awkward silent pauses) when ask why she couldn't do it and what other options there was besides an extra $10 charge . I didn't receive no apologies either. It doesn't make sense to me that a 9 inch cake can't not support words saying happy birthday and other decorations . She could have at least reasoned with me and did one decoration of a paw print where their was open space available on the cake surface . Furthermore, being a vegan options are some what limited in food places and I love supporting any local vegan places out there but if customer service is lacking, it's not worth going to . \\nI doubt if management reads this review they will not coach to this lady or probability defend her actions with excuses. Save your money and time when ordering customized cake here.\", categoryIndex=0.0, prediction=0.0)\n",
      "Row(text=\"Possibly the worst Vietnamese sandwich experience ever. The sandwich I did not care for (I've had better) and the durian smoothie I had was awful. It had a powdery taste, tasted like mango and was overly sweet. The restaurant itself was not very clean. I wouldn't recommend this restaurant and will not be a returning customer.\", categoryIndex=0.0, prediction=0.0)\n",
      "Row(text='Way over priced. Horrrrrrrrrrrrrrrrrrrrrible service. The smoothies are basically syrup, The whole inside decor seems like a drug addict went to town at a goodwill. Buzzberry seemed like such an amaing concept and right down the street from us, dog friendly has booze so on and so on but all it turned out to be is over priced and stuff you can make way better at home in less time.\\n The pastries are \"baked in house every morning\"  wellllllllllll what they dont tell you is that they\\'re frozen in the back too and thats why the banana bread and other things are so dry and crumbly. The staff can be rather nasty too, theres a blonde lady who doesnt seem to knw what an inside voice is when shes speaking unkindly to her employees. \\nThe BLT is really good tho! Coffee drinks are watered down with checmically tasting syrups. The bagels are amazing but I think they get them deleivered.', categoryIndex=0.0, prediction=0.0)\n",
      "Row(text='Overpriced! $100 for buffet for two on a Saturday.  That was my error, I looked at the wrong price on website.  You had to add tip to credit card before the card would process!  I like to add my own tip! The prime rib was only fair.  Very thinly sliced with little taste.  The sweet sour pork was better.  Did have a large selection of hot items.  I would n oui t recommend this buffet.  Better ones and less expensive out there.', categoryIndex=0.0, prediction=1.0)\n",
      "Row(text='Horrible customer service. No greeting. I asked for a seat and sat down... 10 minutes later I got a menu. Waitress did not try to get my drink order or even assure me that she would be back to the table. I sat there for at least 20 minutes before deciding to just go somewhere else. I can only imagine how horrible the place is when packed.', categoryIndex=0.0, prediction=0.0)\n",
      "Row(text='Used to like coming to this place. The service was bad and the wait was too long. Had a burger with botomless fries and asked for a refill 4 times and only got one refill 30 minutes later. Drink was botomless and never got offered a refill had to ask twice....our server was so bad that for the first time i decided not to leave a tip. Bill was $44. Later on i saw my card got charged $50 the server changed my signed receipt and added his own $6 dollar tip. I wanted to contest this but decided i will never go back there again instead.', categoryIndex=0.0, prediction=0.0)\n",
      "Row(text='Walked in on a busy evening and was asked how many....Told the hostess that we were sitting at the bar for the \"Buy 1 Get 1\" special we had received an Email on. She said to us \"Ohhhhh we don\\'t do that....we\\'re a franchise restaurant and do not partake in those specials\" we turned around and left and have not been back since.', categoryIndex=0.0, prediction=0.0)\n",
      "Row(text=\"not the first time I ate at this place or ordered takeout but from all the past experiences and now, I can pretty conclude that they change their cooks all the time so the food is always inconsistent. Some days it is good and most days it is bad. Don't pay with Visa unless you are okay with them choosing whatever amount of tip they wanna give themselves. They charge for delivery fee even though the home is behind them or close, unlike other Chinese places.\", categoryIndex=0.0, prediction=0.0)\n",
      "Row(text=\"Back again, whoops.  We are staying at a nearby hotel, figured we would come here for drinks and dessert.  Waited 40 mins, which I really didn't care about then when we were the last party waiting, host staff asked what we were doing.  I said waiting, of course.  They said we were notified of outlet table earlier so I showed them my phone.  Apparently we could have seated much sooner but we weren't sent any notification.  Whatever.  Ordered a cocktail with Maker's.  It was not awesome, served in a plastic cup, probably a total of 4oz of liquid - $14.  Wife's drink was similar, $10 and not worth it either.\\n\\nLast visit to the Bettis Grille.\", categoryIndex=0.0, prediction=0.0)\n",
      "Row(text='I give it a star for food. I just moved close to this bar and have been here a few times now. The lunch service is good. The night service is a joke!! Where do they find these miserable bartenders who do not give a shit whether you are at their bar or not.  They all have constant frowns on their faces and wait for you to wave them down to get a drink. Even when they are slow. I am in the industry....wow this place needs a management/bartender revamp!!!  Sad because the place has potential.', categoryIndex=0.0, prediction=0.0)\n",
      "Row(text='My wife and I went in just before 9pm, which is over an hour before they close.  As we walked in we noticed an employee standing on the grill (which was off with no lights on) taking down the hoods to clean.  After noticing the early closing duties being done, we looked to see that all the selections of proteins were at the bottom of the pan except for the barbacoa.  \\nMy wife ordered the chicken tacos, which had a clear sign stating that they had an OUTAGE of their regular chicken indicating that the chicken they were currently serving, wasn\\'t organic and contained hormones. No biggie its just chicken right?  I ordered the barbacoa burrito simply because it looked like it was the freshest item made to offer.  After sitting down to eat I took two bites and realized that my entire burrito was cold.  I opened the burrito and stuck my finger right into the center to realize that it was not the slight bit warm but entirely cold including the barbacoa.  Went inside to make the Manager aware that the barbacoa was cold.  \\nThe manager simply stirred up the meat and tasted a sample for himself.  His reply was, \"yeah its not very warm but that probably because we haven\\'t touched it and stirred it enough..  We don\\'t cook this here, it comes in cooked and we only re-heat it.\"  \\nThat pretty much solved the question at hand, they don\\'t cook the barbacoa there and they don\\'t even re-heat it to a sanitary temperature.  I would think these employees have gone through a food training class where the FDA clearly states that between 50 and 140F there can be rapid growth of bacteria in beef.  Food has to be kept above 140F otherwise bacteria starts to grow and doubles every 20 minutes.  This manager had no concern what so ever to be apologetic because he was clearly more interested in closing although they were open for another hour.  I received a refund per my request for the meal and didn\\'t even get an apology.  I would suggest that no one eat at this chipotle after 8pm.  The staff is too focused on closing rather than providing a quality product.\\n\\nhttp://www.fda.gov/Food/FoodborneIllnessContaminants/BuyStoreServeSafeFood/ucm328131.htm', categoryIndex=0.0, prediction=0.0)\n",
      "Row(text='I ordered last night House Chow Fun. It was terrible and cold. I saw some other reviews were good maybe I just order the wrong dish. Lo Mein and vegetable was okay but not impressed', categoryIndex=0.0, prediction=0.0)\n",
      "Row(text=\"My wife and I went there on Friday afternoon for a late lunch. We were looking forward to trying a restaurant that was new to our neighborhood, with outdoor seating. When we sat down, there were only 4 tables being used. We thought this would mean we wouldn't have to wait long for lunch. We were WRONG! We waited for 15 minutes to get service. It took 25 minutes for them to deliever  2 hamburgers that we paid 12.00 a piece for. The hamburgers were good. They add an additonal 3.00 for a side that, we thought was part of the meal. They didn't tell us there was an extra charge for the side.The menu has a limited selection for entrees. The service was terrrible. It was our first and last experience\", categoryIndex=0.0, prediction=0.0)\n",
      "Row(text='The food made me sick and throw up and the show dragged a lot', categoryIndex=0.0, prediction=1.0)\n",
      "Row(text=\"Came here on the recommendation of some friends who told us they enjoyed it.\\n\\nWe came on a Saturday night, it was practically empty, and once we got our food, it was painfully evident why this was the case.\\n\\nFor starters, the booth tables are disastrously grungy looking. The wait staff, while quick to get us our order, wasn't particularly happy to be there, she's just going through the motions, and you can pick up on this rather quickly. Not an eager-to-serve mentality going on there.\\n\\nWe started with cheese sticks... they arrived semi-burnt to a crisp with a tough recently-unfrozen texture on the cheese inside. Stay away from those if you can.\\n\\nFor the main course, my friends ordered Chicken Parm and Alfredo, and being the pasta fanatic I am, I went for the Lasagna. My lasagna arrived on a hot plate, the lasagna itself, not quite so hot as the plate. One taste and it was immediately apparent to me this was reheated in the microwave Lasagna. The food arrived too quickly to have been made fresh. For 9.99? NOT worth it. I can get better tasting frozen lasagna for 7.99 at Walmart. Avoid at all costs. My friends' entrees fared no better. Being a pizza bar and grill, perhaps our mistake was ordering pasta... but with this level of quality on the pasta (Michelina's frozen pasta tastes just as good at a fraction of the price and you don't have to see an unsmiling, uncaring waitress) you should probably order the wings other folks here are recommending. Me? I cannot find myself coming back with this frankly underwhelming food.\", categoryIndex=0.0, prediction=0.0)\n",
      "Row(text='Really disappointed with the service today. We ordered simple breakfast food and had to wait over 45 minutes for it. Our drinks were empty and we were starving. Nobody came to check on us at all. Once our food did arrive the server was rude and defensive about the long wait, not once sincerely apologizing for the extremely long service. Food was good, but they really need to work on customer service and figure out how to make and serve a meal within a reasonable amount of time. Based on the attitude of the server/owner, we will not be returning. Such a shame. Had to pay full price for sub par service.', categoryIndex=0.0, prediction=0.0)\n",
      "Row(text='Seemed pretty dirty.  Didnt eat here just had some drinks.  Nasty bathroom - wouldnt go back', categoryIndex=0.0, prediction=0.0)\n",
      "Row(text=\"I was so looking forward to some great Mediterranean food. You won't find it here. They cooked the New Zealand lamb to point that it was inedible. My side came out 10 minutes after my entree. My partners crab cakes should have been called filler cakes. We did find a crab shell. Our server was abrupt and rude. Apparently she doesn't care about tips. Should have stuck with Pita Souvlaki.\", categoryIndex=0.0, prediction=0.0)\n",
      "Row(text=\"We have been regular fans of Thai House on Shea for years, mainly for takeout but occasionally visiting with friends. We raved about the food, the service, and the clean environment. So we were surprised and disappointed when we walked in today. The place was empty, unusual for a Saturday afternoon. There were food scraps on the floor all the way from the front door to the back. There was also a large uncleared table with no servers around. When we sat down, we realized the entire floor was filthy with a dull film left from a dirty mop. The toilet and urinal in the men's room were foul. The towel dispenser was broken so a heavy roll of stiff towels was left on the sink. Lots of unclean paws had been fumbling around with that towel roll for a while. Ugh. Again, the floor was gnarly, like the serving area but much worse. The grimy mop used over the past months has blackened the beige grout between the floor tiles and 3 or 4 inches up the walls. Speaking of walls, the mirrors on the dining room walls are smudged. And the empty water feature with the calcium-stained plexiglass panels hasn't worked for a couple years. It needs to be fixed, cleaned or removed. It's ugly and unappetizing. \\nIf our order hadn't come sooner, we would have walked out. The food was good but we wondered if it was prepared in the same unsanitary conditions as the rest of the place. Not a pleasant thought. \\nWe hope Thai House will clean up their act. We love their food but we won't return until they provide a cleaner restaurant with better management and a janitorial service. Yikes, even the toothpick dispenser was smudged and dirty.\", categoryIndex=0.0, prediction=0.0)\n",
      "Row(text=\"Went to Wando's for the HS coaches' Nike Boom Party.  Now football coaches tend to be fatter than the general population.  Boom turned out to be prophetic when one fat coach had a blood vessel explode in his leg on the 3rd floor there.  I've never seen so much blood in my life, can't believe the guy survived.  It took an hour and 2 refills of the mop machine to get everything off the floor.  Unbelievable.  But that isn't what got this one star- if anything, this experience made it more toward the 2 star just for the unique experience factor.\\n   No, for this party, free appetizers were advertised, but a couple of frozen pizzas were put out.  Fine, the beer was free, and I don't know if it was the fault of Nike or Wando's but the food was chintzy at the very least.  Also, the space wasn't enough for the crowd that came.  If I'm going to be jammed into a sausage fest, I need at least a semblance of personal space.  Figure it out, guys, a bunch of people on public worker salaries promised free beer- do you think an event like this will underdraw?  Just a kind of weird and not so great experience.  However, I may go the rest of my life without seeing a dude's leg explode again, so that was probably worth something...\", categoryIndex=0.0, prediction=0.0)\n",
      "Row(text=\"I had to give this at least one star to give a review. Have been here twice exactly at 5:00. The restaurant was completely empty. We were told there were no tables available for our size due to reservations. There were tables for bigger parties. It they said that wasn't an option. The host turned away business - twice. Very disappointing.\", categoryIndex=0.0, prediction=0.0)\n",
      "Row(text=\"Poor service. Stood at the door for 2 minutes before the cashier greeted us, we were in plain sight. She sat as at a table near a window that had an infestation. Ants were crawling up the wall next to our table. It's summer time and it happens, but I was appalled when I saw them sit another family there. Also, do not go here past 8pm. They will interrupt your meal to switch refill the soy sauce bottles. This was not the first time we had a poor experience and I still wanted to give them another shot, but I will not be coming here again.\", categoryIndex=0.0, prediction=0.0)\n",
      "Row(text='Don\\'t judge a book by its cover. Seriously don\\'t let the ambiance fool you. There are mariachi bands, a Mexican market in the courtyard, and a Ranch Market next door but that doesn\\'t mean anything when you are served the \"authentic\" food here. I see Tradiciones rated high on several lists out there and they lose credibility with me every time. We couldn\\'t even finish our margaritas they were so gross. The food was bland. The rice was awful as were the beans. If you cant make margaritas, cook rice and beans you have no business owning a Mexican restaurant. It doesn\\'t belong anywhere near the top 10 Mexican restaurants. Here are a few that are much better: Pedros, Carolinas, Barrio Cafe, Los Dos Molinos, Richardsons, El Comedor, Taco Bell, Salsitas, Del Taco, Filibertos....well maybe not those last 4 but the rest are. Don\\'t believe the hype. This place is a glorified tourist trap.', categoryIndex=0.0, prediction=0.0)\n",
      "Row(text=\"Unprofessional work environment.\\nThe owner Chris prides the restaurant on being a friendly place but only keeps on employees that give the customer a cold front. The food is great and not too pricey but the only reason that's feasible is his high turnover rate. He hires someone worth hiring and then fires them once he finds someone cheaper.\", categoryIndex=0.0, prediction=0.0)\n",
      "Row(text='Anyone who gives this place a positive review has never had real sushi - this place is disgusting. My mistake for thinking sushi at an airport would be a good idea.', categoryIndex=0.0, prediction=0.0)\n",
      "Row(text=\"DONT COME HERE MEMBERS ONLY\\n\\nit's Sunday morning decided to post my negative review :\\n\\nRude  bartender\\nPics of drinks on  Facebook and Yelp not same\\nWarm beer\\nwatered down margarita lots of  though\\nLots more but just a horrible experience ended up a twin peaks same price but 100  percent better!\", categoryIndex=0.0, prediction=0.0)\n",
      "Row(text='Food was great, but our server was beyond rude and she was rushing our orders. Straight up telling us \"no this is not for you\" and tend to other tables.\\n\\nSo we tipped her a few bucks due to all that, can you believe she has the audacity to come to us and tell us we didn\\'t tip her 15%?! Are you seriously that bad at your job that you didn\\'t get the hint? \\n\\nIt\\'s not like we didn\\'t tip. We left the tip and left.', categoryIndex=0.0, prediction=0.0)\n",
      "Row(text='I went to Auberge du Pommier for my bridal shower and had a great experience - friendly staff, great atmosphere, and delicious food. I decided to go back for summerlicious 2016 and it was a completely different experience. Food was average - salad and dessert were OK, but coulette steak was very salty and had a lot of gristhle. But most importantly, MAKE SURE YOU CHECK YOUR BILL - my waiter charged me dinner price when I was there for lunch, and made 2 other mistakes while they tried to fix it.', categoryIndex=0.0, prediction=0.0)\n",
      "Row(text='Our waitress, Chanel clearly wasn\\'t listening as we placed the order. As soon as she walked away from our table, I told my friend our food would not be right. BINGO - she brought fries when my friend said \"no fries\". Her burger was dry and inedible. I ordered a black and blue burger with a veggie patty substitute and I got a mushroom and Swiss burger. Wait?? WHAT??? There was some slight empathy from the waitress but it didn\\'t feel very genuine. I\\'m sitting here now waiting for her to offer to bring my bill. Tick tick!!! I think she accidentally asked once if we needed anything else but she hasn\\'t been back since. \\nUpdate - Chanel is getting ready to clock out soon so she\\'s going around asking people to settle their bills now before she goes. Good thing it\\'s all about her. Good riddance!\\nAwful food, slow waitress and apathetic customer service. Run run far away from Whisky River in CLT!!!', categoryIndex=0.0, prediction=0.0)\n",
      "Row(text=\"When I first heard of this restaurant I was soooo excited especially due to the fact that that the owners father is a owner of a nello's pizza. So I thought this would be the younger modern fusion of pizza. I loved the location and decor of this restaurant it was very inviting and I loved the fact that they carried LUX coffee since that is some good coffee. The pizza is another story I really didn't feel they matched flavors well duck with citrus and and too many herb mixings on all the pizzas we got. we also found hair in one of the pizza's which I got really grossed out after that and I didn't want to continue eating anymore. Overall great decor/ambiance, music and coffee is great but I will not be back after the whole pizza incident.\", categoryIndex=0.0, prediction=1.0)\n",
      "Row(text=\"If ZERO STARS was an option, that would be my choice!  We were there over an hour and ended up walking out without eating anything! Appetizer was given to table next to us and we were told by waitress 3 TIMES that she would check on our order.  Never happened.  Then we talked to a manager and she said that she was going to check on order and let us know right away.  Almost 10 minutes later, she still hadn't come back so we just left.  Service was horrible.  Will not EVER recommend or give it another shot.  Don't waste time or money.  Go to Sbarro's instead!\", categoryIndex=0.0, prediction=0.0)\n",
      "Row(text='Bean and cheese burrito, greasy NOT good!  Went in the trash can', categoryIndex=0.0, prediction=0.0)\n",
      "Row(text='If I could give zero stars I would!  First nobody was working the lobby to take my order of two only two pizzas.  After seven minutes of waiting to give my order, I was told twenty minutes for my order.  I left to pick up the rest of the food for the party.  I returned twenty two minutes later and the pizza was not ready.  At the forty five minute mark my pizza was finally ready and the rest of my food cold.  One of my pizza looked like it had spent twenty minutes under a warming light.  Once again Pizza Hut has lost my business again.  See you in two years, maybe longer this time.', categoryIndex=0.0, prediction=0.0)\n",
      "Row(text=\"The food used to be great and we used to go all the time. Recently though, there hadn't been as much care into the food but the real off-putting thing was that the owner treated us very poorly and degradingly because of the way we were dressed (although we were properly dressed but with shorts and t shirts in summer so..) I get that he may have been uncomfortable but denying service would've been altogether better.\", categoryIndex=0.0, prediction=1.0)\n",
      "Row(text=\"The most incompetent staff ever. Been there twice to get beef n cheddars both time they were wrong. One had bacon I didn't ask for and this time it didn't have any of the sauce on it. Guess they don't know what a fucking beef n cheddar is. Never coming back to this one. Fuck em!\", categoryIndex=0.0, prediction=0.0)\n",
      "Row(text=\"HORRIBLE!!!!!!!!!\\nService took forever, we arrived around 8:30 hot seated right away and didn't wind up leaving till almost 10:30\\nWe had 2 filets and 1 ribeye \\nAll the food came out ice cold\\nThe steaks were so tough we couldn't cute them\\nThe manager came over and apologized and looked at one of the filets and was confused as to what the cut of meat was\\n\\nIn the meantime there was a party of 10 at the front complaint about the same stuff\\n\\nThe manager comped our whole mean and gave all 3 adults 20.00 gift cards.\\n\\nI definitely will not be going back, I'll just re gift the gift card.\\n The only resin I gave 1 star is because I had to\", categoryIndex=0.0, prediction=0.0)\n",
      "Row(text=\"I wasn't impressed with my Smoking Salmon meal. \\n\\nHere is the thing, I bought a huge piece of salmon earlier that day that was 5X as big as the piece I got for the same price....oh but there were other things on the plate....yeah, rice, a few wedges of avocado and less than 10 grape tomatoes. \\n\\nIt was also over cooked, blackened bottom and all. Gordon would have been pissed. \\n\\nIt's a sad thing for me that I went SO hungry that I didn't complain then and ate what I was given. \\n\\nAlso, you over cooked the birthday boys steak...he was that hungry he didn't want to fuss.\\n\\nAlso, you forgot the onion chips in the chicken salad.\\n\\nAlso, the crust on the fish n chips was insanely thick and extremely hard to get though.... Oh wait, there are no chips in that...odd huh? \\n\\nIt was also too loud, our group had a very hard time actually TALKING TO ONE ANOTHER WITHOUT SHOUTING. We didn't go out to dinner to watch a looped reel on tv ether. \\n\\nI was glad to leave before my headache got that bad.  \\n \\n\\nI'll rethink ever going back.\", categoryIndex=0.0, prediction=0.0)\n",
      "Row(text='No bike rack. Won\\'t let you bring your bike inside, even when there are only 3 people there. Bar mistress (with nothing to do because 3 customers) yells at you from across the bar. Does not politely come over and apologize. Doesn\\'t say \"only one but then you have to go\". Yells at you. Only have Budweiser. For a neighborhood bar they are working really hard to keep the neighborhood out. Every street in this part if town has a dedicated bike lane full of bikers. Learn who your clients are if you\\'re going to run a neighborhood bar.', categoryIndex=0.0, prediction=0.0)\n",
      "Row(text='This has always been my go to restaurant before going to the movies.  I ordered the build your own burger as usual.  However, the buns have been changed. They were so dry that both myself and my friend took the bread off. I mentioned this to the server who said \"sorry \". Nothing else was said or done. She is a great server, but seeing that we couldn\\'t even eat the bread, I would have thought that a  manager might have come over and said something.  Also, the burger was dry and somewhat tasteless.  It was cooked medium rare so it should have been juicy. I was truly disappointed.  May not return. The place was pretty empty.', categoryIndex=0.0, prediction=0.0)\n",
      "Row(text='We went for breakfast. The service was the worst we had in Las Vegas during our 4 days!! Could not even get our coffee quickly. Coffee came after the food and the food was not really that good. No one seemed to be interested in working at the place, servers just standing around and talking. Three folks at the front desk never seemed to move. There are so many better places to eat.', categoryIndex=0.0, prediction=0.0)\n",
      "Row(text='At a glance, the menu is creative & the all you can eat looks enticing. But we came in in a relatively large group & my fiancé did not receive her first roll until an hour after she ordered it. Most of our party also had large waits as well. The taste was fair to average, nothing to complain about, but there are better tasting sushi restaurants in the valley. A manager was extremely nice & tried to help out, but an auto-gratuity on the check was definitely in bad form after the very poor service.', categoryIndex=0.0, prediction=0.0)\n",
      "Row(text='Well, Ive read so many wonderful reviews and was looking forward to having breakfast with you. However, it would help if your business was actually open during YOUR posted hours.', categoryIndex=0.0, prediction=1.0)\n",
      "Row(text=\"25 minutes after ordering and still don't have our food.  5 others have gotten theirs and left.\\n\\nOn duty manager was nowhere to be found to even lodge a complaint.\\n\\nThis has happened more than once here.\\n\\nWe are done coming here.\", categoryIndex=0.0, prediction=0.0)\n",
      "Row(text=\"Just left this place and I think that I need to call the Hazmat crew to disinfect me after I walked into the men's restroom. It was filthy, human waste all over the place and when I let the manager know she didn't even shut it down or put a sign on the door to let customers know that it's out of service , instead she left it alone and let other customers walk in and come out horrified about to vomit. Good job manager , I also had to throw away  my shoes.\", categoryIndex=0.0, prediction=0.0)\n",
      "Row(text=\"The people were nice enough but....I'm sorry the food was just plain nasty! I got the lunch special sweet-and-sour pork. Tough as nails! I have never tasted something fried that tasted like it was deep-fried in Old motor oil! That's the only way that I can describe it to you,  it was basically inedible!\\nJust gross! \\nThe sauce was incredibly sweet with no sour balance. They do not make an effort here and they definitely do not change the fry oil on a regular basis. That I can tell you for sure! Tough, chewy nasty tasting drowned in over sweet MSG filled sauce. I almost threw up! At least the rice was good and the green tea was good. My advice, stay very far away from this place! Disgusting!\", categoryIndex=0.0, prediction=0.0)\n",
      "Row(text=\"it's alright!!!!definitely not worth the price!!! you can go eat at red robin cheaper and better (not flat, dry)\\ni ordered a bacon cheeseburger,small fry small drink every time i picked it up the bacon would come off (its all little pieces) very annoying!!!!fries...not everyone likes to dip them in ketchup!!! (that's all they have) :( \\noverall....not worth 13 bucks\", categoryIndex=0.0, prediction=0.0)\n",
      "Row(text=\"I had two coupons. The older rude lady that took the order was very rude. I'm sure they spent a lot of money printing these coupons to bring people in to have some smart Alec lady at the counter be rude about the fact you're not supposed to use two it one time. I said no problem I will walk outside and then you can ring it up the second time when I come back in. I mean I'm spending $30 in the store to save 6.99 give me a break.\", categoryIndex=0.0, prediction=0.0)\n",
      "Row(text=\"I was thoroughly disappointed with the service the waitress provided last night.  I'm out celebrating my friends birthday and the waitress had the nerve to have an attitude when I told her I didn't want the fries I had ordered because they never came.  She proceeds to tell me she didn't even put the order in because I was questioning the fries on how they were cooked.  She then proceeded to waive her hands in the air at me. Saying she ASSUMED I didn't want them?!.  Im so glad I kept my cool on that chick and she walked away.  I will NEVER step foot in that place again.  Not to mention the food sucked I ordered the wings and they tasted half raw.  This place was the joke of the night.  Stay away!!\", categoryIndex=0.0, prediction=0.0)\n",
      "Row(text='I was sad to see that posted on the entrance was the sign, GUN FREE ZONE, GUNS NOT PERMITTED, this is just asking a criminal to go in and rob them, they know no one will shoot back. But it is their business and its my money, and I will spend it elsewhere.', categoryIndex=0.0, prediction=0.0)\n",
      "Row(text='Very poor quality food. The food tasted old and there was very little to chose from. However, the staff was very friendly.', categoryIndex=0.0, prediction=1.0)\n",
      "Row(text=\"I was in the process of moving furniture to the house I was about to rent. I was starving. This was close by....so....I ordered Gen Tso, to be on the safe side. OMG that kitchen is so disgusting. I was starving, but I don't know why I followed through with the order. I tasted something like soured grease taste coming through the chicken and then some other rancid flavor. I lost my cookies. I couldn't hold this down. You know how you get food, and the smell is just wafting through the car, and gets the flavor buds going? Not this. I don't know what to say bc some people are saying they really like the food, but I honestly would rather dumpster dive for food than take a chance on this health violation. I mean that with all my heart, not as a joke. I'm with the other older reviewer. I'm 47 years old and this is positively the most disgusting food that has ever touched my lips.\", categoryIndex=0.0, prediction=0.0)\n",
      "Row(text=\"This establishment closes at 10pm, and when my husband and I walked in at 930 to get dinner the host openly told us that the restaurant would be closing in 30 minutes. The tone in her voice was unwelcoming so I asked, is it okay that we eat? And she took a deep sigh and thought about it! She paused and said, well it's a rush so... So we took our business elsewhere. I have never received such rude service not even a minute into walking through their front doors. Probably the last time we'll visit this location. Super disappointing Red Robins.\", categoryIndex=0.0, prediction=0.0)\n",
      "Row(text=\"Unfortunately this place didn't live up to the excitement I had for it to open. The decor is great, the drinks are great as always, but the food and service are far below average. The bartenders are not friendly and very unwelcoming. The pizza was no better than microwave ones, and it's unfortunate because they have a good location however Distill is right next door and we will continue to visit that establishment instead.\", categoryIndex=0.0, prediction=1.0)\n",
      "Row(text=\"We had a split party that was taking our Mom out for her birthday. After being seated we were asked about our party. We told them we had 3 more joining us. They then proceeded to tell us that we would need to go back out to the lobby and wait for our whole group. We told them that we've already been seated and they didn't care. They then also told us that if there weren't enough chairs that some of our party would either have to wait in the lobby for more seats to open or sit in another part of the restaurant. We verified that we were understanding them correctly and when we found out that we were we told them we are leaving and going somewhere else. Not interested in giving money or business to someone with that low of a customer service level.\", categoryIndex=0.0, prediction=0.0)\n",
      "Row(text='Not so good experience. They are suppose to be fast and friendly service. They are alway short staffed, having people wait for food to be cooked. Only one person at the counter with a line to the door. ALWAYS RUNNING OUT OF FRIED RICE, \" it will be five minutes \" who has five minutes when it should be prepared before they run out. staff I must say are pleasant!!! \\nI have Given this establishment 8 months because of location..?\\nI have not gone in to this place for a while as my way of boycotting. Went int today and a featured dish is a five minute wait because and empty crusty pan is sitting there by it\\'s name ( it\\'s wasn\\'t  busy  230 pm, not a busy hour in food service at a mall day after Labor Day )..... Cook it before it runs out is my expectation. Fast Chinese Food, the reason I choose Panda. it\\'s a done deal, went next door to Capriotti\\'s where i was taken care of!\\nWhat happened to taking care of the customer????', categoryIndex=0.0, prediction=0.0)\n",
      "Row(text='Terrible. Wings arrived cold, spaghetti tasted like they opened a can of tomato paste. French fried in old oil grease. I will admit the 8\" bar pizza and the Shock top was good but one can\\'t ruin that.\\n\\nAs I was posting this/or the tip was up for discussion suddenly, the waitress whom never had time to talk to us apologized about some of the deficiencies. Not sure if Cheryl was being genuine or fishing for a tip but the timing was off.', categoryIndex=0.0, prediction=0.0)\n",
      "Row(text=\"The philly steak was the worst.  It was dry the bread was hard and I had to wait for about 30 mins for the food.  I will never go here again and I don't recommend this place At all!!!!!\", categoryIndex=0.0, prediction=0.0)\n",
      "Row(text=\"This review is based on customer service. I never got to actually use the facilities. I went in on a day there was not a soul present and asked about tanning. It was like pulling teeth!  I had to ask to be shown the facilities and was told very little. She basically just pointed and couldn't answer any of the questions I had about the beds. I had to keep asking questions and still left having no idea what they actually offered. Did I have to pay membership for the non monthly? I don't know. I got more information off of the sign on the counter than from the representative. I had a coupon from yelp for 50% of $100 that strictly says for services only not for retail. So I asked if that applied towards buying sessions and the girl said no only towards lotion. I showed her and again said it says not for use on retail. She was completely unfamiliar with the yelp coupon and referred me to what is usually used from Groupon. I asked her to please check with someone who could confirm because I wanted to buy a package and tan but I didn't want to buy lotion yet. I wasn't going to buy the package if I couldn't use the coupon. Never heard back. Instead she just argued with me. I felt like I was begging her to take my business. Needless to say I gave up and left and haven't been back. :(\", categoryIndex=0.0, prediction=0.0)\n",
      "Row(text=\"We ate here when it first opened and service was very slow and food was okay but the dishes all came out at different times.  Nobody got to eat at the same time.  Tonight we wanted Indian food and saw reviews were pretty good so we thought we would give another try.    We called to place a take out order and nobody answered the phone.  Looks like nothing's changed.\", categoryIndex=0.0, prediction=0.0)\n",
      "Row(text=\"Average food quality, bad service. it was a really busy Saturday and it wasn't easy to get a server to take our order and unfortunately our server was also forgetful - didn't put in our dinner order and we waited for 30 minutes before another server showed up and asked if we have ordered yet. Finally the food came - food was quite tasty but very greasy. and when we finished we have to ask for three different servers to get our bill. I'm  really not that impressed and will not come back in the future. For that price there are better Chinese restaurants who serve better (and healthier) Chinese food.\", categoryIndex=0.0, prediction=0.0)\n",
      "Row(text=\"This place is awful! First they parked us then 23 mins later we still don't have our food. 2 kids freaking out about being hungry we came here for FAST FOOD and they failed.\", categoryIndex=0.0, prediction=0.0)\n",
      "Row(text=\"This review is based on their bubble tea only:\\nHad a hankering for a bubble tea after going to smashburger. Stopped in to this location next door. Restaurant was clean and inviting as was the staff. \\nOrdered my tea and proceeded to watch the most unprofessional handling of food I've ever seen. The lady scooped the pearls into my cup and then took a spoonful for herself into her mouth. Umm...ok. She blended my mixture and poured it into my cup and then did the same thing. Took the spoon and ate some of the mixture that didn't fit into my tea. \\nYou just don't do this!\\n\\nPlus the price was $6.50 for this. The most expensive tea I've ever purchased. \\n\\nThe tea itself was very weak in flavour, almost watered down. And the pearls were horrible! Undercooked? I don't know if they're cooked or what. But they were very chewy and hard like in the centre. Like very raw pasta. \\nI'll not return.\", categoryIndex=0.0, prediction=0.0)\n",
      "Row(text='Waiter too so long, I just had one salad...it was the worst Cesar Salad I ever had, no parmesan on the dressing. It tasted more like mayonnaise and salad. We were a party of 8 and the waiter was ipset we asked for separate checks. He said we were supposed to disclaime that at reservation. We cane on a tuesday', categoryIndex=0.0, prediction=0.0)\n",
      "Row(text=\"Do NOT believe the hype. I have been here four times.  Each time something worse happens. I'm not sure who is to blame for the poorly behaved and badly trained wait staff, but one thing I can say for sure, after the fourth visit, is that the poor service and way below average food quality are definitely consistent!\\n\\nMy last (and final) visit to this restaurant included:  frozen, reheated crab cakes, that were disgusting; an 11.00 spinach salad that consisted exactly of spinach, six raw walnuts, and 5 pieces of artichoke hearts;  and then there was the entree.  The entree was our final knife in the gut and pocket book.  We ordered the lobster and steak special.  We specifically asked the waiter for a filet cut of steak.  He served us a small piece of grisly meat that my giant, sharp, steak knife, literally could not cut through!  When we told him it was not filet, he was condescending and rude and acted like we didn't know what we were talking about!  Grrr!  \\n\\nWe were highly insulted that they would pass this horrible quality and poorly made menu items off as authentic Italian cuisine. If that is authentic Italian cuisine, no one would ever lay claim to it!\\n\\nThe manager half heartedly apologized, although she seemed more worried about upsetting the condescending waiter than she was concerned about our horrible experience, and she removed the uneaten special from our bill.  \\n\\nI have not ever wrote a bad restaurant review, however, they should not be able to get away with this in a city filled with amazing restaurant options.   I hope that they can address their issues and be an asset to our community in the future.\", categoryIndex=0.0, prediction=0.0)\n",
      "Row(text='I went in with coworkers for a meal and everything seemed fine. Atmosphere was good and food seemed fine. \\n\\nI\\'m allergic to pine nuts and specified that and got a seafood dish. When I ordered it and took a bite I started to get a reaction. Things happen and I asked the waitress if this had anything in it. \"No.\" Well could it have been cross contamination? \"No but if you want to order something else, I can put that in.\" Order something else? I could actually die from shock! \\n\\nNot asking for sympathy or anything but asking if I just want to buy another dish is actually an incredibly unempathetic response. I won\\'t return and have told people of this encounter. Actually dangerous location honestly.', categoryIndex=0.0, prediction=0.0)\n",
      "Row(text=\"If a customer chooses to wait for fresh pizza, you should never charge them extra do so. I was there yesterday around 3:00pm and ordered the Italian Cheese Bread. Lady at the counter offered the hot and ready ICB in the warmer. I insisted it looked unappetizing and chose to wait  for a fresh one. I stepped over to the side and waited 5 minutes. And then, the lady at the counter approached me and demanded I paid an additional $1.00 more the fresh ICB THAT I ALREADY PAID FOR which made no sense to me. I asked for a manager and found out it was he who delegated to the associate I had no choice but to pay the dollar or take what's in the warmer. I called their corporate number and later found out the Silverado Ranch and Bermuda store is owned by a franchisee. I later visited the store on Durango and Warm Spring which was corporate owned and found out you do not have to pay an additional amount of money to have your pizza freshly prepared. Little Caesars on Silverado Ranch and Bermuda practices scamming their customers and not giving a cufk about it. All this for pizza right?\", categoryIndex=0.0, prediction=0.0)\n",
      "Row(text=\"My gf and I came here today to eat at the patio and enjoy the nice weather. We were told that there was a bit of a wait and the party of 2 in front of us were first in line so we decided to wait at the bar. As we waited, we had ordered some drinks and noticed that not only had the party ahead of us had been seated but a couple who had just arrived at the bar after us had been as well. My gf questioned it and was told that they were here well before us, which doesn't make sense since they arrived at the bar to wait after us. Needless to say, we promptly paid for our drinks and left. No need to lie when a mistake has been made. Horrible service, it's a shame since we have dined many times prior to this experience.\", categoryIndex=0.0, prediction=0.0)\n",
      "Row(text=\"Of the last 4 visits to this Portillo's, 3 of my orders have been incorrect. That's right a 75% error rate in topping or counting hot dogs! It's actually worse, as sometimes they'll make multiple mistakes, just to keep things interesting. \\n\\nIf you're eating at the restaurant, they'll fix the problem but certainly don't count on a good attitude about it, and don't expect an apology silly customer! If you're ordering at the drive through, you'd better unwrap and inspect your food before leaving to ensure you got what you ordered. Topping hot dogs is complicated stuff after all, apparently so is counting.\\n\\nFood is OK, apparently brings back memories for Chicago transplants. But the unengaged, unhappy staff screams poor management that can't be overcome by any amount of nostalgic signs and photos and makes for a poor dining experience. Do yourself a favor and look at other Chicago style hot dog restaurants on Yelp, you'll find some that serve great food, with a great attitude, served by happy people who can both top hot dogs AND count !\", categoryIndex=0.0, prediction=1.0)\n",
      "Row(text='I was not going to review but I have to.   I rolled up to the window and saw the person making my phone with one hand making my food and another hand on his phone.  Then he went from his phone and touched the bread to make the sandwich with his bare hands.  I don\\'t mind but that is a health code violation.\\n  I was not going to review that. But today I went to go order a buffalo chicken slider and onion rings.... and I tried asking for an iced tea but then I heard the guy laughing in the background. I waited for a good 30 seconds with no response after I said \"can I have an ice tea.\"\\n  Then he eventually says OK one onion ring and one jalapeño slider.!¿. \\n  It was obvious he was not paying attention to my order so why have this guy at the cash register. Whoever does the training at this location is not doing a very good job.   Not only did he get my order wrong,but I had to repeat myself and said I wanted a nice tea multiple times because he was not paying attention.  I\\'m OK with laughing at work but this guy was being an immature douche bag.  Bad staff, bad customer service, bad training..\\n\\nGo to Jack-in-the-Box across the street, they seem to have good managers and good training.  Much better health code rating too.', categoryIndex=0.0, prediction=0.0)\n",
      "Row(text=\"Came in for Father's Day. Worst experience. I'm just going to say 2 things to sum up my experience. \\n\\n1. Gave my sister a dirty cup with lip stick still from whomever drank the cup last.\\n\\n2. Messed up my order when I specifically asked for no pico on my burrito and I wanted French fries instead of hash browns. \\n\\nNever coming again\", categoryIndex=0.0, prediction=0.0)\n",
      "Row(text=\"If there was a 0 rating I would do it because that cashier is still there and she is still rude!!!!  - don't they know customer service??\", categoryIndex=0.0, prediction=0.0)\n",
      "Row(text='Terrible.  Lobster Fest was more like lobster tapas.  The portions were incredibly small...even my cocktail felt like half a drink.  Vow to never eat on the strip again.  Although the flavors were good, not at all worth the price or hassle.  We left hungry and disappointed.', categoryIndex=0.0, prediction=0.0)\n",
      "Row(text='This place has really gone down hill. I came here a few years ago and it was good. Then I came again a few days ago and was completely disappointed. \\nThe sushi was not well wrapped and tasted mediocre, the sesame chicken was hard as a rock, the chicken parmesan and pork cutlet wee both dry and firm. There were a few other things I tried as well, but the taste was just not great, and not even good. The best most enjoyable part of the meal was the Diet Coke I had.', categoryIndex=0.0, prediction=0.0)\n",
      "Row(text=\"Food is pretty good. which deserves a 4-star rating. Unfortunately, two things ding 3 stars off the review.\\nAmbiance is way too loud and restaurant is over packed. Time for them to realize that its not comfortable for customers to get hit by waiters everytime they pass by our table. Worst of all, as many mentioned, manager is a complete jerk. Really dosen't care about his customers and seems to care more about himself then anything else. Too bad the food was good, but i wont be coming back since the service lacked.\", categoryIndex=0.0, prediction=0.0)\n",
      "Row(text=\"Got my food ordered from postmates and my order was horrendous. My chicken plate was either 1. moldy or 2. Not thawed properly so there was strange grey/white blobs over my chicken. Was excited because I've heard great things but it was disgusting. Could not eat any of  it besides tortillas cause it was wrapped separately.\", categoryIndex=0.0, prediction=0.0)\n",
      "Row(text=\"I had a friend in town from San Fransisco who enjoys well crafted cocktails. He ordered an old fashioned but it wasn't to his standards so he sent it back. The bartender came to our table to notify us that it was a $15 drink and that he would take it off the check this time but to watch it. I was blown away! Perhaps he is not used to having his cocktails sent back because the crowd was highly intoxicated by 8pm and they had no idea what they were drinking. I spoke to the manager about our experience and he clearly did not care. The staff was very unprofessional... Some of the worst service I've experienced. I will not be returning.\", categoryIndex=0.0, prediction=0.0)\n",
      "Row(text=\"Tasteless drinks. I expect better drinks at a restaurant in such a nice hotel. We had the sangria margarita and fruit Paloma. They both taste like you could get those at Denny's (nothing wrong with Denny's.) Only I had expected better from this place.\", categoryIndex=0.0, prediction=0.0)\n",
      "Row(text='The breakfast that is advertised is terrible. The eggs have one of the oddest flavours I have ever tasted, and eggs are hard to mess up. The turkey bacon had little to no flavour. The sausage was a hot dog cut in half and cooked like a spider wiener from a camping trip, and it was an extra two dollars for it. The hash browns were decent but a very small portion. The price was good but not worth it.', categoryIndex=0.0, prediction=0.0)\n",
      "Row(text=\"Food was alright. Service was HORRIBLE. The women's bathroom was disgusting. There was a giant roach on the patio. Our waitress acted like we were bothering her. They messed up our food order 3 times. Waited an hour for our shitty waitress to return with our check. I actually went in the bar area to hunt her down and seen her and all the waitresses behind the bar not doing anything. Just standing around stuck on stupid. Told them we were ready for the check. She said she would be right out. Waited another 10 mins for her to return and another waitress returned. I'll never come here again. Waste of money go to any one of the other places around the area.\", categoryIndex=0.0, prediction=0.0)\n",
      "Row(text='The tacos they served me was either rotten or poisoned. I threw up everything after I ate the food. Felt very sick and bad stomach ache. They must not be sanitary', categoryIndex=0.0, prediction=1.0)\n",
      "Row(text='We\\'ve eaten here years ago. Never thought about coming back because We have our favorite Sushi joints and there are just tons to choose from in the city. My in laws invited us to eat here with them one night so we happily obliged.\\n\\nWe got the AYCE dinner. Kids don\\'t have reduced AYCE price, one star off for that. My kids don\\'t eat much but I like that if they want more, they can just order. But since they didn\\'t have kids AYCE price, we ordered a la carte for them. \\n\\nWe started with half Roll orders. I ordered a tiger roll and another one (I forget the exact name). All were bland and bla. Poké and nigiri were good. I was turned off by some of the food my kids ordered and by the rolls we all ordered. No umph in looks or taste at all!! \\n\\nEven though my palate and stomach were satiated by the nigiri (because after a taste of the other food, they were my only options), I felt a bit robbed. After I ordered my dessert, I turn around to the sushi bar (because my dessert took a good loooong 10 min or so (ice cream scoop), and I notice a chalkboard in the back with \"specials\".\\n\\nI was so annoyed because our waiter didn\\'t tell us that our AYCE dinner included all that is listed on the chalkboard. Why was I so irked??? Because one of my favorite things to order at Japanese restaurants were up there and not on my menu at the table -- hamachi kama and sake Kama. I told the waiter I was upset because he didn\\'t mention the specials to us. He did apologize but that did not remove the bad taste the whole place left in my mouth. Pun intended!', categoryIndex=0.0, prediction=0.0)\n",
      "Row(text='I mean.. I havent been to applebees in years, for good reason. Let\\'s start with the twenty something year old calling me \"brother\" and bringing the wrong drinks to the table. (Fantastic welcoming) there were probably 4-5 tables occupied in this restaurant at the time, so the busy waiter excuse did not apply this time. \\n\\n\\nThe waiter then kindly asked if we needed a minute to look over the menu, which we did need, because neither of us had been there in quite some time. \\nThat minute turned into 10.. as he continued to walk by and be oblivious to the fact that our menus were down and tailed to ask if we were ready. \\n\\n\\nI should mention that we walked in and were seated right away. Which was a fabulous thing because we had plans after dinner and were on a time crunch. Seated at around 6:40 pm.\\n\\n\\nSo we finally ordered our food at around 6:55.. Two kids meals one entree and one appetizer. (Tacos were the main entree) \\n\\nSo we sat there... for about 35 minutes before a kids burger and a kids pizza came out and about another 10-15 before the other two came out. \\n\\nI have never had to ask for to go boxes as they\\'re serving my food. The manager even brought the boxes and bags, but never thought \" hey they JUST got their food and asked for to go boxes, maybe I\\'ll ask them if everything is okay.\" \\n\\nNope. Nada. Applebees, this is why your tables are empty. This is why you have to offer 25c wings, dine in only..  \\n\\n\\nFood was good though. Order was correct. (Should be, you took an hour to prepare it.)', categoryIndex=0.0, prediction=0.0)\n",
      "Row(text='My worst experience ever.\\nWe went there last week before the cinema to eat and drink. We asked in advance how long we have to wait for dinner. The guy said 20-25. So we went upstairs where the music was as loud we didn\\'t hear each other, we switched the table. We we waiting for 10 minutes for somebody to ask what we would like to drink. We ordered the drink and food also. After 15 minutes all everybody around us already got their drinks... \\nI went to the guy (because they didn\\'t even realize what happened) and asked when we gonna get our drink and food?!? \\nHa asked me \"What drink?\"\\nI told to him the drinks... He was watching me totally confused... He said he is gonna check it...\\n5 more minutes and the guy came to the table and said \"sorry we don\\'t have your orders\"...\\nThat time we\\'ve been in the place more than 30 minutes without any drink, the air on the upstairs was warm and humid, we were swatting...\\nSo we said ok let\\'s do again the orders, but for sure we asked could they serve the food in 25 minutes, because we had the tickets for a movie in the cinema.\\nThe guy was laughing and said \"minimum 45 minutes - 1 hour\".\\nWe said\\nIn this case we have to go, we don\\'t have time.\\nHe said ok, sorry, bye and left.\\nWe were standing next to the table and realized this place just focusing to the money not for the people...\\nDefinitely I\\'m not going back!!!!!', categoryIndex=0.0, prediction=0.0)\n",
      "Row(text='First, Why does this place have a hostess stand, yet they have absolutely no hostess and you have to stand and hope that someone notices that you need to be seated. If you need to change to order due to food allergies like I have to, you get a blank stare and charged for the \" extra\" and there isn\\'t anything in writing that says \" no substitutions\". They also double charged our credit card and when my boyfriend and I went back to fix it, the so-called management told us to let our bank handle it because that happened ( double charging ) there are the time, so is he saying that his employees or place of employment are thieves? Hmmm, makes you wonder. Then on busy nights, they don\\'t have a hostess once again saying that it\\'ll be a long wait, nor a sign on their door saying that they have reached their capacity and the staff doesn\\'t know what to do anyway except one server, the rest are rude and just don\\'t care. Will I recommend this dump of a Pub? No! I lived in Europe and stayed in the UK and the pubs there would laugh and shake their heads at this one. Also, I just loved being led to a supposedly reserved table which me and my guest were not told was reserved, because we didn\\'t make reservations and it\\'s beyond filthy and no \" reserved\" sign on the table, so these nitwits should have cleaned the table and sat us, instead we ate somewhere else, a far more pleasant place, that knew what they were doing.', categoryIndex=0.0, prediction=0.0)\n",
      "Row(text=\"Just sat at our table waiting over 10 minutes when a server came and asked what we wanted abruptly, we asked for a minute but for some waters. No waters came and she never came back. Walked up and left and within 30 seconds they sat new people at the table  the employees looked miserable, I can Imagine that's gonna help them get some great tips\", categoryIndex=0.0, prediction=0.0)\n",
      "time: 33.4 s (started: 2021-04-11 12:46:11 -04:00)\n"
     ]
    }
   ],
   "source": [
    "selected = predictions.select('text', 'categoryIndex', 'prediction')\n",
    "for row in selected.collect():\n",
    "    print(row)"
   ]
  },
  {
   "cell_type": "code",
   "execution_count": 82,
   "metadata": {},
   "outputs": [
    {
     "name": "stdout",
     "output_type": "stream",
     "text": [
      "time: 40.7 s (started: 2021-04-11 12:42:37 -04:00)\n"
     ]
    }
   ],
   "source": [
    "evaluator = MulticlassClassificationEvaluator(labelCol = \"categoryIndex\", predictionCol = \"prediction\")\n",
    "acc_test_lr = evaluator.evaluate(predictions, {evaluator.metricName: \"accuracy\"})"
   ]
  },
  {
   "cell_type": "code",
   "execution_count": 83,
   "metadata": {},
   "outputs": [
    {
     "name": "stdout",
     "output_type": "stream",
     "text": [
      "Test accuracy: 0.8947368421052632\n",
      "time: 0 ns (started: 2021-04-11 12:43:18 -04:00)\n"
     ]
    }
   ],
   "source": [
    "print('Test accuracy: ' + str(acc_test_lr))"
   ]
  },
  {
   "cell_type": "code",
   "execution_count": 84,
   "metadata": {},
   "outputs": [
    {
     "name": "stdout",
     "output_type": "stream",
     "text": [
      "time: 31 ms (started: 2021-04-11 12:44:23 -04:00)\n"
     ]
    }
   ],
   "source": [
    "coef_matrix = cvModel.bestModel.stages[-1].coefficientMatrix\n",
    "coef_list = coef_matrix.toArray().tolist()"
   ]
  },
  {
   "cell_type": "code",
   "execution_count": 91,
   "metadata": {},
   "outputs": [
    {
     "data": {
      "text/html": [
       "<div>\n",
       "<style scoped>\n",
       "    .dataframe tbody tr th:only-of-type {\n",
       "        vertical-align: middle;\n",
       "    }\n",
       "\n",
       "    .dataframe tbody tr th {\n",
       "        vertical-align: top;\n",
       "    }\n",
       "\n",
       "    .dataframe thead th {\n",
       "        text-align: right;\n",
       "    }\n",
       "</style>\n",
       "<table border=\"1\" class=\"dataframe\">\n",
       "  <thead>\n",
       "    <tr style=\"text-align: right;\">\n",
       "      <th></th>\n",
       "      <th>0</th>\n",
       "    </tr>\n",
       "  </thead>\n",
       "  <tbody>\n",
       "    <tr>\n",
       "      <th>85</th>\n",
       "      <td>-0.240770</td>\n",
       "    </tr>\n",
       "    <tr>\n",
       "      <th>132</th>\n",
       "      <td>-0.237014</td>\n",
       "    </tr>\n",
       "    <tr>\n",
       "      <th>156</th>\n",
       "      <td>-0.207880</td>\n",
       "    </tr>\n",
       "    <tr>\n",
       "      <th>484</th>\n",
       "      <td>-0.204485</td>\n",
       "    </tr>\n",
       "    <tr>\n",
       "      <th>473</th>\n",
       "      <td>-0.203521</td>\n",
       "    </tr>\n",
       "    <tr>\n",
       "      <th>...</th>\n",
       "      <td>...</td>\n",
       "    </tr>\n",
       "    <tr>\n",
       "      <th>423</th>\n",
       "      <td>0.238032</td>\n",
       "    </tr>\n",
       "    <tr>\n",
       "      <th>277</th>\n",
       "      <td>0.238672</td>\n",
       "    </tr>\n",
       "    <tr>\n",
       "      <th>344</th>\n",
       "      <td>0.274846</td>\n",
       "    </tr>\n",
       "    <tr>\n",
       "      <th>78</th>\n",
       "      <td>0.294194</td>\n",
       "    </tr>\n",
       "    <tr>\n",
       "      <th>84</th>\n",
       "      <td>0.346402</td>\n",
       "    </tr>\n",
       "  </tbody>\n",
       "</table>\n",
       "<p>511 rows × 1 columns</p>\n",
       "</div>"
      ],
      "text/plain": [
       "            0\n",
       "85  -0.240770\n",
       "132 -0.237014\n",
       "156 -0.207880\n",
       "484 -0.204485\n",
       "473 -0.203521\n",
       "..        ...\n",
       "423  0.238032\n",
       "277  0.238672\n",
       "344  0.274846\n",
       "78   0.294194\n",
       "84   0.346402\n",
       "\n",
       "[511 rows x 1 columns]"
      ]
     },
     "execution_count": 91,
     "metadata": {},
     "output_type": "execute_result"
    },
    {
     "name": "stdout",
     "output_type": "stream",
     "text": [
      "time: 31 ms (started: 2021-04-11 12:45:32 -04:00)\n"
     ]
    }
   ],
   "source": [
    "import pandas as pd\n",
    "pd.DataFrame(coef_list).T.sort_values(0)"
   ]
  },
  {
   "cell_type": "code",
   "execution_count": 98,
   "metadata": {},
   "outputs": [
    {
     "name": "stdout",
     "output_type": "stream",
     "text": [
      "enjoy\n",
      "excellent\n",
      "might\n",
      "miss\n",
      "stick\n",
      "read\n",
      "drive\n",
      "especially\n",
      "wonderful\n",
      "late\n",
      "ago\n",
      "fantastic\n",
      "job\n",
      "yet\n",
      "glass\n",
      "bread\n",
      "almost\n",
      "selection\n",
      "yummy\n",
      "ill\n",
      "another\n",
      "toppings\n",
      "least\n",
      "watch\n",
      "everything\n",
      "huge\n",
      "french\n",
      "mind\n",
      "three\n",
      "suppose\n",
      "though\n",
      "explain\n",
      "less\n",
      "girl\n",
      "offer\n",
      "pack\n",
      "bathroom\n",
      "change\n",
      "horrible\n",
      "quick\n",
      "dollar\n",
      "become\n",
      "beer\n",
      "little\n",
      "stand\n",
      "walk\n",
      "extra\n",
      "return\n",
      "whole\n",
      "la_vegas\n",
      "time: 297 ms (started: 2021-04-11 12:47:28 -04:00)\n"
     ]
    }
   ],
   "source": [
    "coef_df = pd.DataFrame(coef_list).T.sort_values(0, ascending = False)\n",
    "for i in range(0, 50):\n",
    "    print(tf_model.vocabulary[coef_df.index[i]])"
   ]
  },
  {
   "cell_type": "code",
   "execution_count": 99,
   "metadata": {},
   "outputs": [
    {
     "name": "stdout",
     "output_type": "stream",
     "text": [
      "area\n",
      "plate\n",
      "charge\n",
      "accommodate\n",
      "expensive\n",
      "even_though\n",
      "take_order\n",
      "real\n",
      "stuff\n",
      "tasty\n",
      "bottle\n",
      "saturday\n",
      "chip\n",
      "barely\n",
      "impressed\n",
      "soggy\n",
      "fill\n",
      "turn\n",
      "old\n",
      "wont\n",
      "plus\n",
      "last\n",
      "anything\n",
      "seem\n",
      "hotel\n",
      "sandwich\n",
      "worth\n",
      "broth\n",
      "piece\n",
      "sad\n",
      "ok\n",
      "flavour\n",
      "employee\n",
      "name\n",
      "chef\n",
      "great_food\n",
      "party\n",
      "care\n",
      "chance\n",
      "couldnt\n",
      "cold\n",
      "pay\n",
      "pork\n",
      "fine\n",
      "year\n",
      "money\n",
      "id\n",
      "stay\n",
      "entire\n",
      "anyway\n",
      "time: 281 ms (started: 2021-04-11 12:47:42 -04:00)\n"
     ]
    }
   ],
   "source": [
    "coef_df = pd.DataFrame(coef_list).T.sort_values(0, ascending = True)\n",
    "for i in range(0, 50):\n",
    "    print(tf_model.vocabulary[coef_df.index[i]])"
   ]
  },
  {
   "cell_type": "markdown",
   "metadata": {},
   "source": [
    "### Random forest"
   ]
  },
  {
   "cell_type": "code",
   "execution_count": null,
   "metadata": {},
   "outputs": [],
   "source": [
    "from pyspark.ml.classification import RandomForestClassifier\n",
    "rf = RandomForestClassifier(featuresCol = 'tfidf_features', labelCol = 'categoryIndex')"
   ]
  },
  {
   "cell_type": "code",
   "execution_count": null,
   "metadata": {},
   "outputs": [],
   "source": [
    "{param[0].name: param[1] for param in rf.extractParamMap().items()}"
   ]
  },
  {
   "cell_type": "code",
   "execution_count": null,
   "metadata": {},
   "outputs": [],
   "source": [
    "from datetime import datetime\n",
    "now = datetime.now()\n",
    "current_time = now.strftime(\"%H:%M\")\n",
    "print(\"Model fitting started at: \", current_time)\n",
    "rfModel = rf.fit(trainingData)"
   ]
  },
  {
   "cell_type": "code",
   "execution_count": null,
   "metadata": {},
   "outputs": [],
   "source": [
    "rfPredictions_training = rfModel.transform(trainingData)\n",
    "rfPredictions_test = rfModel.transform(testData)"
   ]
  },
  {
   "cell_type": "code",
   "execution_count": null,
   "metadata": {},
   "outputs": [],
   "source": [
    "from pyspark.ml.evaluation import BinaryClassificationEvaluator, MulticlassClassificationEvaluator\n",
    "evaluator = MulticlassClassificationEvaluator(labelCol = 'categoryIndex', predictionCol = \"prediction\")"
   ]
  },
  {
   "cell_type": "code",
   "execution_count": null,
   "metadata": {},
   "outputs": [],
   "source": [
    "acc_training_rf = evaluator.evaluate(rfPredictions_training, {evaluator.metricName: \"accuracy\"})\n",
    "acc_test_rf = evaluator.evaluate(rfPredictions_test, {evaluator.metricName: \"accuracy\"})\n",
    "# f1 = evaluator.evaluate(rfPredictions_training, {evaluator.metricName: \"f1\"})\n",
    "# weightedPrecision = evaluator.evaluate(rfPredictions_training, {evaluator.metricName: \"weightedPrecision\"})\n",
    "# weightedRecall = evaluator.evaluate(rfPredictions_training, {evaluator.metricName: \"weightedRecall\"})"
   ]
  },
  {
   "cell_type": "code",
   "execution_count": null,
   "metadata": {},
   "outputs": [],
   "source": [
    "print('Training accuracy: ' + str(acc_training_rf))\n",
    "print('Test accuracy: ' + str(acc_test_rf))"
   ]
  },
  {
   "cell_type": "code",
   "execution_count": null,
   "metadata": {},
   "outputs": [],
   "source": [
    "coef_matrix = rfModel.featureImportances\n",
    "coef_list = coef_matrix.toArray().tolist()"
   ]
  },
  {
   "cell_type": "code",
   "execution_count": null,
   "metadata": {},
   "outputs": [],
   "source": [
    "import pandas as pd\n",
    "coef_df = pd.DataFrame(coef_list).sort_values(0, ascending = False)\n",
    "for i in range(0, 50):\n",
    "    print(tf_model.vocabulary[coef_df.index[i]])"
   ]
  }
 ],
 "metadata": {
  "kernelspec": {
   "display_name": "Python 3",
   "language": "python",
   "name": "python3"
  },
  "language_info": {
   "codemirror_mode": {
    "name": "ipython",
    "version": 3
   },
   "file_extension": ".py",
   "mimetype": "text/x-python",
   "name": "python",
   "nbconvert_exporter": "python",
   "pygments_lexer": "ipython3",
   "version": "3.8.8"
  }
 },
 "nbformat": 4,
 "nbformat_minor": 4
}
